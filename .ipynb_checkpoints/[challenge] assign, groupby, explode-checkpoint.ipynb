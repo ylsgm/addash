{
 "cells": [
  {
   "cell_type": "code",
   "execution_count": 1,
   "metadata": {},
   "outputs": [
    {
     "name": "stdout",
     "output_type": "stream",
     "text": [
      "@\n",
      "        # platform.node()='MH507192' \n",
      "        # datetime.now()=datetime.datetime(2020, 12, 16, 10, 37, 14, 980274) \n",
      "        # sys.version='3.8.3 (default, Jul  2 2020, 17:30:36) [MSC v.1916 64 bit (AMD64)]' \n",
      "        \n"
     ]
    }
   ],
   "source": [
    "%run C:/__PYP/__COMMON/ugenejupyterlib/firstcell.ipynb\n",
    "%run C:/__PYP/__COMMON/ugenejupyterlib/datacell.ipynb"
   ]
  },
  {
   "cell_type": "markdown",
   "metadata": {},
   "source": [
    "## snipets to test your knowledge in pd's :\n",
    "`groupby with duplicated lookup, groupby with 1D array, sr.explode()`"
   ]
  },
  {
   "cell_type": "code",
   "execution_count": 2,
   "metadata": {},
   "outputs": [
    {
     "name": "stdout",
     "output_type": "stream",
     "text": [
      "[df] ref:\n",
      "+----+--------------+\n",
      "|    | l_idx        |\n",
      "|----+--------------|\n",
      "| g0 | [0, 2, 3]    |\n",
      "| g1 | [3, 4, 6]    |\n",
      "| g2 | [1, 2, 3, 6] |\n",
      "+----+--------------+\n",
      "\n",
      "[df] df:\n",
      "+-------+------+------+\n",
      "|   idx | o1   | o2   |\n",
      "|-------+------+------|\n",
      "|     0 | A1   | a    |\n",
      "|     1 | B1   | b    |\n",
      "|     2 | A1   | c    |\n",
      "|     3 | C1   | d    |\n",
      "|     4 | D1   | e    |\n",
      "|     5 | E1   | f    |\n",
      "|     6 | F1   | g    |\n",
      "+-------+------+------+\n",
      "\n"
     ]
    },
    {
     "data": {
      "text/plain": [
       "'to be combined into:'"
      ]
     },
     "execution_count": 2,
     "metadata": {},
     "output_type": "execute_result"
    },
    {
     "data": {
      "text/html": [
       "<div>\n",
       "<style scoped>\n",
       "    .dataframe tbody tr th:only-of-type {\n",
       "        vertical-align: middle;\n",
       "    }\n",
       "\n",
       "    .dataframe tbody tr th {\n",
       "        vertical-align: top;\n",
       "    }\n",
       "\n",
       "    .dataframe thead th {\n",
       "        text-align: right;\n",
       "    }\n",
       "</style>\n",
       "<table border=\"1\" class=\"dataframe\">\n",
       "  <thead>\n",
       "    <tr style=\"text-align: right;\">\n",
       "      <th></th>\n",
       "      <th>l_idx</th>\n",
       "      <th>o1</th>\n",
       "      <th>o2</th>\n",
       "    </tr>\n",
       "  </thead>\n",
       "  <tbody>\n",
       "    <tr>\n",
       "      <th>g0</th>\n",
       "      <td>[0, 2, 3]</td>\n",
       "      <td>[A1, A1, C1]</td>\n",
       "      <td>[a, c, d]</td>\n",
       "    </tr>\n",
       "    <tr>\n",
       "      <th>g1</th>\n",
       "      <td>[3, 4, 6]</td>\n",
       "      <td>[C1, D1, F1]</td>\n",
       "      <td>[d, e, g]</td>\n",
       "    </tr>\n",
       "    <tr>\n",
       "      <th>g2</th>\n",
       "      <td>[1, 2, 3, 6]</td>\n",
       "      <td>[B1, A1, C1, F1]</td>\n",
       "      <td>[b, c, d, g]</td>\n",
       "    </tr>\n",
       "  </tbody>\n",
       "</table>\n",
       "</div>"
      ],
      "text/plain": [
       "           l_idx                o1            o2\n",
       "g0     [0, 2, 3]      [A1, A1, C1]     [a, c, d]\n",
       "g1     [3, 4, 6]      [C1, D1, F1]     [d, e, g]\n",
       "g2  [1, 2, 3, 6]  [B1, A1, C1, F1]  [b, c, d, g]"
      ]
     },
     "execution_count": 2,
     "metadata": {},
     "output_type": "execute_result"
    }
   ],
   "source": [
    "# the problem to be solved:\n",
    "ref = pd.DataFrame({'l_idx': [[0, 2, 3], [3, 4, 6], [1,2,3,6]]}, index='g0 g1 g2'.split())\n",
    "df = pd.DataFrame({ 'o1': ['A1', 'B1', 'A1', 'C1', 'D1', 'E1', 'F1'], 'o2': list('abcdefg')})\n",
    "# df.rename(index={None:'idx'}); df.rename(index={'index':'idx'}) # won't work as index doesn't have a name by default, can't design\n",
    "df.index.name = 'idx'\n",
    "\n",
    "s = ref['l_idx'].explode()\n",
    "desired_output= ref.join(df.loc[s].groupby(s.index).agg(lambda x: list(x)))\n",
    "\n",
    "printdf('ref')\n",
    "printdf('df')\n",
    "\"to be combined into:\"\n",
    "desired_output"
   ]
  },
  {
   "cell_type": "code",
   "execution_count": 13,
   "metadata": {},
   "outputs": [
    {
     "name": "stdout",
     "output_type": "stream",
     "text": [
      "Help on function printdf in module __main__:\n",
      "\n",
      "printdf(code, dfname: str = None)\n",
      "    example: printdf(mydf, 'mydf'); printdf(mydf); printdf('mydf')\n",
      "    @para code: could be df, sr, or string\n",
      "\n",
      "[sr] m:\n",
      "+----+---------+\n",
      "|    |   l_idx |\n",
      "|----+---------|\n",
      "| g0 |       0 |\n",
      "| g0 |       2 |\n",
      "| g0 |       3 |\n",
      "| g1 |       3 |\n",
      "| g1 |       4 |\n",
      "| g1 |       6 |\n",
      "| g2 |       1 |\n",
      "| g2 |       2 |\n",
      "| g2 |       3 |\n",
      "| g2 |       6 |\n",
      "+----+---------+\n",
      "\n"
     ]
    }
   ],
   "source": [
    "# [+]  df explode, for cells whoes values are not single value, but a list\n",
    "\n",
    "m = ref['l_idx'].explode() # m as in \"mapping\"\n",
    "help(printdf)\n",
    "printdf('m')"
   ]
  },
  {
   "cell_type": "code",
   "execution_count": 21,
   "metadata": {},
   "outputs": [
    {
     "data": {
      "text/plain": [
       "['A1', 'B1', 'A1', 'C1', 'D1', 'E1', 'F1']"
      ]
     },
     "execution_count": 21,
     "metadata": {},
     "output_type": "execute_result"
    },
    {
     "name": "stdout",
     "output_type": "stream",
     "text": [
      "[df] [group] g0:\n",
      "+----+---------+------+------+\n",
      "|    |   l_idx | o1   | o2   |\n",
      "|----+---------+------+------|\n",
      "| g0 |       0 | A1   | a    |\n",
      "| g0 |       2 | A1   | c    |\n",
      "| g0 |       3 | C1   | d    |\n",
      "+----+---------+------+------+\n",
      "\n",
      "[df] [group] g1:\n",
      "+----+---------+------+------+\n",
      "|    |   l_idx | o1   | o2   |\n",
      "|----+---------+------+------|\n",
      "| g1 |       3 | C1   | d    |\n",
      "| g1 |       4 | D1   | e    |\n",
      "| g1 |       6 | F1   | g    |\n",
      "+----+---------+------+------+\n",
      "\n",
      "[df] [group] g2:\n",
      "+----+---------+------+------+\n",
      "|    |   l_idx | o1   | o2   |\n",
      "|----+---------+------+------|\n",
      "| g2 |       1 | B1   | b    |\n",
      "| g2 |       2 | A1   | c    |\n",
      "| g2 |       3 | C1   | d    |\n",
      "| g2 |       6 | F1   | g    |\n",
      "+----+---------+------+------+\n",
      "\n"
     ]
    },
    {
     "data": {
      "text/html": [
       "<div>\n",
       "<style scoped>\n",
       "    .dataframe tbody tr th:only-of-type {\n",
       "        vertical-align: middle;\n",
       "    }\n",
       "\n",
       "    .dataframe tbody tr th {\n",
       "        vertical-align: top;\n",
       "    }\n",
       "\n",
       "    .dataframe thead th {\n",
       "        text-align: right;\n",
       "    }\n",
       "</style>\n",
       "<table border=\"1\" class=\"dataframe\">\n",
       "  <thead>\n",
       "    <tr style=\"text-align: right;\">\n",
       "      <th></th>\n",
       "      <th>l_idx</th>\n",
       "      <th>o1</th>\n",
       "      <th>o2</th>\n",
       "    </tr>\n",
       "  </thead>\n",
       "  <tbody>\n",
       "    <tr>\n",
       "      <th>g0</th>\n",
       "      <td>[0, 2, 3]</td>\n",
       "      <td>[A1, A1, C1]</td>\n",
       "      <td>[a, c, d]</td>\n",
       "    </tr>\n",
       "    <tr>\n",
       "      <th>g1</th>\n",
       "      <td>[3, 4, 6]</td>\n",
       "      <td>[C1, D1, F1]</td>\n",
       "      <td>[d, e, g]</td>\n",
       "    </tr>\n",
       "    <tr>\n",
       "      <th>g2</th>\n",
       "      <td>[1, 2, 3, 6]</td>\n",
       "      <td>[B1, A1, C1, F1]</td>\n",
       "      <td>[b, c, d, g]</td>\n",
       "    </tr>\n",
       "  </tbody>\n",
       "</table>\n",
       "</div>"
      ],
      "text/plain": [
       "           l_idx                o1            o2\n",
       "g0     [0, 2, 3]      [A1, A1, C1]     [a, c, d]\n",
       "g1     [3, 4, 6]      [C1, D1, F1]     [d, e, g]\n",
       "g2  [1, 2, 3, 6]  [B1, A1, C1, F1]  [b, c, d, g]"
      ]
     },
     "execution_count": 21,
     "metadata": {},
     "output_type": "execute_result"
    }
   ],
   "source": [
    "# [+] you can actually list a df.col\n",
    "list(df.o1)\n",
    "\n",
    "# [+] my own approach, easier to think, using pd merge\n",
    "#     merge is capable of handling duplicated lookups.\n",
    "tdf = pd.merge(m.to_frame(), df, left_on='l_idx', right_index=True, how='left')\n",
    "tdf.groupby(tdf.index).agg(list)"
   ]
  },
  {
   "cell_type": "code",
   "execution_count": 12,
   "metadata": {},
   "outputs": [
    {
     "data": {
      "text/html": [
       "<div>\n",
       "<style scoped>\n",
       "    .dataframe tbody tr th:only-of-type {\n",
       "        vertical-align: middle;\n",
       "    }\n",
       "\n",
       "    .dataframe tbody tr th {\n",
       "        vertical-align: top;\n",
       "    }\n",
       "\n",
       "    .dataframe thead th {\n",
       "        text-align: right;\n",
       "    }\n",
       "</style>\n",
       "<table border=\"1\" class=\"dataframe\">\n",
       "  <thead>\n",
       "    <tr style=\"text-align: right;\">\n",
       "      <th></th>\n",
       "      <th>idx</th>\n",
       "      <th>o1</th>\n",
       "      <th>o2</th>\n",
       "    </tr>\n",
       "  </thead>\n",
       "  <tbody>\n",
       "    <tr>\n",
       "      <th>g0</th>\n",
       "      <td>0</td>\n",
       "      <td>0</td>\n",
       "      <td>0</td>\n",
       "    </tr>\n",
       "    <tr>\n",
       "      <th>g0</th>\n",
       "      <td>2</td>\n",
       "      <td>0</td>\n",
       "      <td>0</td>\n",
       "    </tr>\n",
       "    <tr>\n",
       "      <th>g0</th>\n",
       "      <td>3</td>\n",
       "      <td>0</td>\n",
       "      <td>0</td>\n",
       "    </tr>\n",
       "    <tr>\n",
       "      <th>g1</th>\n",
       "      <td>3</td>\n",
       "      <td>0</td>\n",
       "      <td>0</td>\n",
       "    </tr>\n",
       "    <tr>\n",
       "      <th>g1</th>\n",
       "      <td>4</td>\n",
       "      <td>0</td>\n",
       "      <td>0</td>\n",
       "    </tr>\n",
       "    <tr>\n",
       "      <th>g1</th>\n",
       "      <td>6</td>\n",
       "      <td>0</td>\n",
       "      <td>0</td>\n",
       "    </tr>\n",
       "    <tr>\n",
       "      <th>g2</th>\n",
       "      <td>1</td>\n",
       "      <td>0</td>\n",
       "      <td>0</td>\n",
       "    </tr>\n",
       "    <tr>\n",
       "      <th>g2</th>\n",
       "      <td>2</td>\n",
       "      <td>0</td>\n",
       "      <td>0</td>\n",
       "    </tr>\n",
       "    <tr>\n",
       "      <th>g2</th>\n",
       "      <td>3</td>\n",
       "      <td>0</td>\n",
       "      <td>0</td>\n",
       "    </tr>\n",
       "    <tr>\n",
       "      <th>g2</th>\n",
       "      <td>6</td>\n",
       "      <td>0</td>\n",
       "      <td>0</td>\n",
       "    </tr>\n",
       "  </tbody>\n",
       "</table>\n",
       "</div>"
      ],
      "text/plain": [
       "   idx  o1  o2\n",
       "g0   0   0   0\n",
       "g0   2   0   0\n",
       "g0   3   0   0\n",
       "g1   3   0   0\n",
       "g1   4   0   0\n",
       "g1   6   0   0\n",
       "g2   1   0   0\n",
       "g2   2   0   0\n",
       "g2   3   0   0\n",
       "g2   6   0   0"
      ]
     },
     "execution_count": 12,
     "metadata": {},
     "output_type": "execute_result"
    }
   ],
   "source": [
    "m"
   ]
  },
  {
   "cell_type": "code",
   "execution_count": 4,
   "metadata": {},
   "outputs": [
    {
     "name": "stdout",
     "output_type": "stream",
     "text": [
      "[df] reversed m, rm:\n",
      "+----+---------+\n",
      "|    | index   |\n",
      "|----+---------|\n",
      "|  6 | g0      |\n",
      "|  3 | g0      |\n",
      "|  2 | g0      |\n",
      "|  1 | g1      |\n",
      "|  6 | g1      |\n",
      "|  4 | g1      |\n",
      "|  3 | g2      |\n",
      "|  3 | g2      |\n",
      "|  2 | g2      |\n",
      "|  0 | g2      |\n",
      "+----+---------+\n",
      "\n"
     ]
    }
   ],
   "source": [
    "# [+] reverse sr m\n",
    "rm = m.to_frame().reset_index()\n",
    "vals = rm['l_idx'].values\n",
    "rm['l_idx'] = vals[::-1]\n",
    "rm = rm.set_index('l_idx')\n",
    "rm.index.name=None\n",
    "\n",
    "printdf(rm, 'reversed m, rm')"
   ]
  },
  {
   "cell_type": "code",
   "execution_count": 5,
   "metadata": {},
   "outputs": [
    {
     "name": "stdout",
     "output_type": "stream",
     "text": [
      "[df] [group] g0:\n",
      "+-------+------+------+\n",
      "|   idx | o1   | o2   |\n",
      "|-------+------+------|\n",
      "|     0 | A1   | a    |\n",
      "+-------+------+------+\n",
      "\n",
      "[df] [group] g1:\n",
      "+-------+------+------+\n",
      "|   idx | o1   | o2   |\n",
      "|-------+------+------|\n",
      "|     1 | B1   | b    |\n",
      "|     2 | A1   | c    |\n",
      "|     3 | C1   | d    |\n",
      "+-------+------+------+\n",
      "\n"
     ]
    }
   ],
   "source": [
    "# groupby refresher\n",
    "simpleMapping = {0:'g0', 1:'g1', 2:'g1', 3:'g1'}\n",
    "\n",
    "printgp(df.groupby(simpleMapping))\n",
    "\n",
    "# we know that groupby's mapping is to map index into groups\n",
    "# a thing we didn't emphacise before:\n",
    "# each index can only be mapped to ONLY ONE group\n",
    "# thinking about the dictionary or Sr or df.col, they are all dictionary based, so the mapping is USUALLY** unique\n",
    "# however sr of df.col CAN support NON UNIQUE index. then you will have errors, as shown in the next cell"
   ]
  },
  {
   "cell_type": "code",
   "execution_count": 6,
   "metadata": {},
   "outputs": [
    {
     "name": "stdout",
     "output_type": "stream",
     "text": [
      "df.o1[m.values].groupby(rm) ==>\n",
      " !!EXCEPTION!! Grouper for '<class 'pandas.core.frame.DataFrame'>' not 1-dimensional\n",
      "df.o1[m.values].groupby(m) ==>\n",
      " !!EXCEPTION!! cannot reindex from a duplicate axis\n",
      "df.o1[m.values].groupby(rm['index']) ==>\n",
      " !!EXCEPTION!! cannot reindex from a duplicate axis\n"
     ]
    }
   ],
   "source": [
    "# WRONG SOLUTIONS\n",
    "# !!! very important knowledge !!!\n",
    "\n",
    "try:\n",
    "    gp = df.o1[m.values].groupby(rm)\n",
    "except Exception as e:\n",
    "    print(\"df.o1[m.values].groupby(rm) ==>\\n\", \"!!EXCEPTION!!\", e)\n",
    "ccc=\\\n",
    "\"\"\"\n",
    "Grouper for '<class 'pandas.core.frame.DataFrame'>' not 1-dimensional\n",
    "the error message is obtuse, \n",
    "usually it happens when you df.groupby(anotherdf), but anotherdf has more than 1 column\n",
    "what's happening is, in anotherdf, an index is mapped to more than 1 labels,\n",
    "ie, index 0 is mapped to column \"fruit\", cell value 'apple'; index 0 is also mapped to 2nd column \"organic\", cell value True\n",
    "\n",
    "in this case, we don't have a multi dimensional column, but we have a lookup mapping whoes index is not unique\n",
    "\"\"\"\n",
    "\n",
    "try:\n",
    "    df.o1[m.values].groupby(m)\n",
    "except Exception as e:\n",
    "    print('df.o1[m.values].groupby(m) ==>\\n', \"!!EXCEPTION!!\", e)\n",
    "    # same ballpark explanation as above\n",
    "    \n",
    "try:\n",
    "    gp = df.o1[m.values].groupby(rm['index'])\n",
    "except Exception as e:\n",
    "    print(\"df.o1[m.values].groupby(rm['index']) ==>\\n\", \"!!EXCEPTION!!\", e)\n",
    "    # same ballpark explanation as above    \n"
   ]
  },
  {
   "cell_type": "code",
   "execution_count": 27,
   "metadata": {},
   "outputs": [
    {
     "name": "stdout",
     "output_type": "stream",
     "text": [
      "[df] temp:\n",
      "+----+----------------+\n",
      "|    | doesntmatter   |\n",
      "|----+----------------|\n",
      "| 11 | doesntmatter   |\n",
      "| 14 | doesntmatter   |\n",
      "| 17 | doesntmatter   |\n",
      "| 20 | doesntmatter   |\n",
      "| 23 | doesntmatter   |\n",
      "| 26 | doesntmatter   |\n",
      "| 29 | doesntmatter   |\n",
      "| 32 | doesntmatter   |\n",
      "| 35 | doesntmatter   |\n",
      "| 38 | doesntmatter   |\n",
      "+----+----------------+\n",
      "\n",
      "[sr] m:\n",
      "+----+---------+\n",
      "|    |   l_idx |\n",
      "|----+---------|\n",
      "| g0 |       0 |\n",
      "| g0 |       2 |\n",
      "| g0 |       3 |\n",
      "| g1 |       3 |\n",
      "| g1 |       4 |\n",
      "| g1 |       6 |\n",
      "| g2 |       1 |\n",
      "| g2 |       2 |\n",
      "| g2 |       3 |\n",
      "| g2 |       6 |\n",
      "+----+---------+\n",
      "\n"
     ]
    },
    {
     "data": {
      "text/plain": [
       "'temp.groupby(m.index)'"
      ]
     },
     "execution_count": 27,
     "metadata": {},
     "output_type": "execute_result"
    },
    {
     "name": "stdout",
     "output_type": "stream",
     "text": [
      "[df] [group] g0:\n",
      "+----+----------------+\n",
      "|    | doesntmatter   |\n",
      "|----+----------------|\n",
      "| 11 | doesntmatter   |\n",
      "| 14 | doesntmatter   |\n",
      "| 17 | doesntmatter   |\n",
      "+----+----------------+\n",
      "\n",
      "[df] [group] g1:\n",
      "+----+----------------+\n",
      "|    | doesntmatter   |\n",
      "|----+----------------|\n",
      "| 20 | doesntmatter   |\n",
      "| 23 | doesntmatter   |\n",
      "| 26 | doesntmatter   |\n",
      "+----+----------------+\n",
      "\n",
      "[df] [group] g2:\n",
      "+----+----------------+\n",
      "|    | doesntmatter   |\n",
      "|----+----------------|\n",
      "| 29 | doesntmatter   |\n",
      "| 32 | doesntmatter   |\n",
      "| 35 | doesntmatter   |\n",
      "| 38 | doesntmatter   |\n",
      "+----+----------------+\n",
      "\n"
     ]
    }
   ],
   "source": [
    "# GROUPBY() using a 1D array, ie, no lookup\n",
    "# this problem feels like groupby(), the ref's cell contains \"grouping\" or list of indexes\n",
    "# but we can't really groupby, as the index is not unique after explode()\n",
    "\n",
    "ccc=\\\n",
    "\"\"\"\n",
    "THIS COMES DOWN TO ANOTHER WAY OF GROUPBY(). GROUPBY() CAN TAKE A LIST AS A MAPPING\n",
    "IN THAT CASE, \n",
    "    LIST IS CONSIDERED THE LABEL, \n",
    "    \"index\" is implied to be list's element's sequence. \"index\" will the thing we will be grouping\n",
    "    \"index\" is not actual df.groupby()'s index, is more like iat(), absolute position\n",
    "\"\"\"\n",
    "temp = pd.DataFrame(data='doesntmatter', index=list(range(11, 39, 3)), columns=['doesntmatter'])\n",
    "printdf('temp')\n",
    "printdf('m')\n",
    "\n",
    "# m.index is a list, used as lookup map to groupby temp, which has none natural squence index.\n",
    "'temp.groupby(m.index)'\n",
    "printgp(    temp.groupby(m.index)  )"
   ]
  }
 ],
 "metadata": {
  "kernelspec": {
   "display_name": "Python 3",
   "language": "python",
   "name": "python3"
  },
  "language_info": {
   "codemirror_mode": {
    "name": "ipython",
    "version": 3
   },
   "file_extension": ".py",
   "mimetype": "text/x-python",
   "name": "python",
   "nbconvert_exporter": "python",
   "pygments_lexer": "ipython3",
   "version": "3.8.3"
  }
 },
 "nbformat": 4,
 "nbformat_minor": 4
}
