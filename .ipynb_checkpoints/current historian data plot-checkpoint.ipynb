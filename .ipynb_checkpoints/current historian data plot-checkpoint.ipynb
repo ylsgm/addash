{
 "cells": [
  {
   "cell_type": "code",
   "execution_count": 1,
   "metadata": {},
   "outputs": [
    {
     "name": "stdout",
     "output_type": "stream",
     "text": [
      "@\n",
      "        # platform.node()='6700k-1080' \n",
      "        # datetime.now()=datetime.datetime(2020, 11, 8, 20, 55, 38, 318635) \n",
      "        # sys.version='3.8.3 (default, Jul  2 2020, 17:30:36) [MSC v.1916 64 bit (AMD64)]' \n",
      "        \n"
     ]
    }
   ],
   "source": [
    "%run C:/__PYP/__COMMON/ugenejupyterlib/firstcell.ipynb\n",
    "%run C:/__PYP/__COMMON/ugenejupyterlib/datacell.ipynb"
   ]
  },
  {
   "cell_type": "code",
   "execution_count": 13,
   "metadata": {},
   "outputs": [
    {
     "data": {
      "text/plain": [
       "Renderers configuration\n",
       "-----------------------\n",
       "    Default renderer: 'notebook'\n",
       "    Available renderers:\n",
       "        ['plotly_mimetype', 'jupyterlab', 'nteract', 'vscode',\n",
       "         'notebook', 'notebook_connected', 'kaggle', 'azure', 'colab',\n",
       "         'cocalc', 'databricks', 'json', 'png', 'jpeg', 'jpg', 'svg',\n",
       "         'pdf', 'browser', 'firefox', 'chrome', 'chromium', 'iframe',\n",
       "         'iframe_connected', 'sphinx_gallery', 'sphinx_gallery_png']"
      ]
     },
     "execution_count": 13,
     "metadata": {},
     "output_type": "execute_result"
    }
   ],
   "source": [
    "import plotly.io as pio\n",
    "pio.renderers\n",
    "pio.renderers.default = \"browser\""
   ]
  },
  {
   "cell_type": "code",
   "execution_count": 4,
   "metadata": {},
   "outputs": [],
   "source": [
    "import pandas as pd\n",
    "ldfs = pd.read_pickle(r\"C:\\addash\\testSubject\\pickles\\allunits\", compression='infer')"
   ]
  },
  {
   "cell_type": "raw",
   "metadata": {},
   "source": [
    "[todo]\n",
    "[v] keep it list of dfs, during text file prasing, we have to read_csv, which gets df.\n",
    "[ ] concat df?\n",
    "[ ] range slider auto date time selector\n",
    "\n",
    "mw uses inner color and shape, but outer color and line denotes unit.\n",
    "https://plotly.com/python/line-charts/ filled lines\n",
    "\n",
    "probably not fixing axis\n",
    "mw -10 to 150\n",
    "mwar -10 150"
   ]
  },
  {
   "cell_type": "code",
   "execution_count": 21,
   "metadata": {},
   "outputs": [
    {
     "data": {
      "text/plain": [
       "'U1.GEN_MVAR.VAL'"
      ]
     },
     "execution_count": 21,
     "metadata": {},
     "output_type": "execute_result"
    },
    {
     "data": {
      "text/plain": [
       "'U1.GOV_WGATE_POSN'"
      ]
     },
     "execution_count": 21,
     "metadata": {},
     "output_type": "execute_result"
    },
    {
     "data": {
      "text/plain": [
       "'U1.GOV_PILOTVALVE_SIG'"
      ]
     },
     "execution_count": 21,
     "metadata": {},
     "output_type": "execute_result"
    },
    {
     "data": {
      "text/plain": [
       "'U1.GOV_SP_IND'"
      ]
     },
     "execution_count": 21,
     "metadata": {},
     "output_type": "execute_result"
    },
    {
     "data": {
      "text/plain": [
       "'U1.GEN_FREQ.VAL'"
      ]
     },
     "execution_count": 21,
     "metadata": {},
     "output_type": "execute_result"
    },
    {
     "data": {
      "text/plain": [
       "'U2.EXC_GEN_MVAR'"
      ]
     },
     "execution_count": 21,
     "metadata": {},
     "output_type": "execute_result"
    },
    {
     "data": {
      "text/plain": [
       "'U2.GEN_MVAR.VAL'"
      ]
     },
     "execution_count": 21,
     "metadata": {},
     "output_type": "execute_result"
    },
    {
     "data": {
      "text/plain": [
       "'U2.GOV_WGATE_POSN'"
      ]
     },
     "execution_count": 21,
     "metadata": {},
     "output_type": "execute_result"
    },
    {
     "data": {
      "text/plain": [
       "'U2.GOV_PILOTVALVE_SIG'"
      ]
     },
     "execution_count": 21,
     "metadata": {},
     "output_type": "execute_result"
    },
    {
     "data": {
      "text/plain": [
       "'U2.GOV_SP_IND'"
      ]
     },
     "execution_count": 21,
     "metadata": {},
     "output_type": "execute_result"
    },
    {
     "data": {
      "text/plain": [
       "'U2.GEN_FREQ.VAL'"
      ]
     },
     "execution_count": 21,
     "metadata": {},
     "output_type": "execute_result"
    },
    {
     "data": {
      "text/plain": [
       "'U3.GEN_MVAR.VAL'"
      ]
     },
     "execution_count": 21,
     "metadata": {},
     "output_type": "execute_result"
    },
    {
     "data": {
      "text/plain": [
       "'U3.GOV_WGATE_POSN'"
      ]
     },
     "execution_count": 21,
     "metadata": {},
     "output_type": "execute_result"
    },
    {
     "data": {
      "text/plain": [
       "'U3.GOV_PILOTVALVE_SIG'"
      ]
     },
     "execution_count": 21,
     "metadata": {},
     "output_type": "execute_result"
    },
    {
     "data": {
      "text/plain": [
       "'U3.GOV_SP_IND'"
      ]
     },
     "execution_count": 21,
     "metadata": {},
     "output_type": "execute_result"
    },
    {
     "data": {
      "text/plain": [
       "'U3.GEN_FREQ.VAL'"
      ]
     },
     "execution_count": 21,
     "metadata": {},
     "output_type": "execute_result"
    }
   ],
   "source": [
    "for df in ldfs:\n",
    "    df.columns[0]"
   ]
  },
  {
   "cell_type": "code",
   "execution_count": 65,
   "metadata": {},
   "outputs": [],
   "source": [
    "cfg_mvar = {\n",
    "    'yaxis' : 'y1',\n",
    "    \n",
    "}\n",
    "cfg_gate= {\n",
    "    'yaxis' : 'y2',\n",
    "    \n",
    "}\n",
    "# use yield to auto assign y axis?\n",
    "\n",
    "configdict = {\n",
    "'U2.EXC_GEN_MVAR': cfg_mvar,\n",
    "'U2.GEN_MVAR.VAL': cfg_mvar,\n",
    "'U2.GOV_WGATE_POSN': cfg_gate,\n",
    "}\n"
   ]
  },
  {
   "cell_type": "code",
   "execution_count": 69,
   "metadata": {},
   "outputs": [
    {
     "name": "stdout",
     "output_type": "stream",
     "text": [
      "U2.EXC_GEN_MVAR {'yaxis': None} y arg taken\n",
      "U2.GEN_MVAR.VAL {'yaxis': None} y arg taken\n",
      "U2.GOV_WGATE_POSN {'yaxis': 'y2'} y arg taken\n"
     ]
    }
   ],
   "source": [
    "V=\\\n",
    "\"\"\"\n",
    "trying live wk gov plot\n",
    "\"\"\"\n",
    "import dash\n",
    "import dash_core_components as dcc\n",
    "import dash_html_components as html\n",
    "import plotly.graph_objects as go\n",
    "\n",
    "import pandas as pd\n",
    "import numpy as np\n",
    "\n",
    "fig = go.Figure()\n",
    "# ys = [\n",
    "#     'y1', 'y2', 'y3'\n",
    "# ] # seems to be hardcoded to link to fig's yaxis1 yaxis2 etc.\n",
    "\n",
    "for i, df in enumerate(ldfs):\n",
    "    if (\n",
    "        cfg:=configdict.get(df.columns[0])\n",
    "    ):\n",
    "\n",
    "        catch=fig.add_trace(go.Scatter(\n",
    "            x=df.index,\n",
    "            y=df[df.columns[0]],\n",
    "            name=df.columns[0],\n",
    "            yaxis = cfg['yaxis'],\n",
    "            mode='lines+markers', connectgaps=True, # js is tricter? connectgaps=1 doesn't work\n",
    "        ))\n",
    "        print(df.columns[0], cfg, 'y arg taken')\n",
    "\n",
    "        \n",
    "\n",
    "\n",
    "\n",
    "layout = go.Layout(\n",
    "    title=\"layout adjust\",\n",
    "    plot_bgcolor=\"#EEEEEE\",  # Sets background color to white\n",
    "    xaxis=dict(\n",
    "        title=\"time\",\n",
    "        linecolor=\"#BCCCDC\",  # Sets color of X-axis line\n",
    "        showgrid=False,  # Removes X-axis grid lines\n",
    "        \n",
    "        type=\"date\",\n",
    "        # https://github.com/d3/d3-time-format#locale_format\n",
    "        \n",
    "        showspikes=True, # Show spike line for X-axis\n",
    "        # Format spike\n",
    "        spikethickness=1,\n",
    "        spikedash=\"dot\",\n",
    "        spikecolor=\"#555555\",\n",
    "        spikemode=\"across\",\n",
    "        \n",
    "        rangeslider=dict(\n",
    "            autorange=True,\n",
    "            visible=True,\n",
    "        ),\n",
    "        #tickformat = '%Hhr <br> %M:%S',\n",
    "    ),\n",
    "    yaxis1=dict(\n",
    "        title=\"mw\",  \n",
    "        linecolor=\"#FF0000\",  # Sets color of Y-axis line\n",
    "        showgrid=False,  # Removes Y-axis grid lines   \n",
    "#         position=0.1,\n",
    "# #         anchor=\"free\",\n",
    "#         overlaying=\"y\",\n",
    "#         side=\"left\",\n",
    "    ),\n",
    "    yaxis2=dict(\n",
    "        title=\"gate\",  \n",
    "        linecolor=\"#0000FF\",  # Sets color of Y-axis line\n",
    "        showgrid=False,  # Removes Y-axis grid lines   \n",
    "        position=0.05,\n",
    "#         anchor=\"free\",\n",
    "        overlaying=\"y\",\n",
    "        side=\"left\",\n",
    "    ),\n",
    "    title_text=\"test mvar\",\n",
    "#     width=1200,\n",
    "#     height=600,\n",
    ")\n",
    "c=fig.update_traces(mode=\"markers+lines\", hovertemplate =\n",
    "        '<br><b>=%{y}</b>'+\n",
    "        '<br><i>timestamp</i>: %{x}<br>')\n",
    "# c=fig.update_layout(hovermode=\"x unified\")\n",
    "# Update layout properties\n",
    "c = fig.update_layout(\n",
    "    layout\n",
    ")\n",
    "\n",
    "fig.show()\n"
   ]
  },
  {
   "cell_type": "code",
   "execution_count": null,
   "metadata": {},
   "outputs": [],
   "source": [
    "\n",
    "\n",
    "# Create axis objects\n",
    "# fig = fig.update_layout(\n",
    "#     xaxis=dict(\n",
    "#         domain=[0, 1],\n",
    "#         # range=[ldfs[1].index[60], ldfs[1].index[-60]]\n",
    "#     ),\n",
    "#     yaxis1=dict(\n",
    "#         title=\"yaxis1 title\",\n",
    "#         anchor=\"free\",\n",
    "#         overlaying=\"y\",\n",
    "#         side=\"right\",\n",
    "#         # anchor='free'\n",
    "#         #rangemode='tozero',\n",
    "#     ),\n",
    "#     yaxis2=dict(\n",
    "#         title=\"yaxis2 title\",\n",
    "\n",
    "#         anchor=\"free\",\n",
    "#         overlaying=\"y\",\n",
    "#         side=\"right\",\n",
    "#         position=0.05,\n",
    "#         #rangemode='tozero',\n",
    "\n",
    "#     ),\n",
    "#     yaxis3=dict(\n",
    "#         title=\"yaxis3 title\",\n",
    "\n",
    "#         anchor=\"x\",\n",
    "#         overlaying=\"y\",\n",
    "#         side=\"right\",\n",
    "#         position=0.95,\n",
    "#         #rangemode='tozero',\n",
    "\n",
    "#     ),\n",
    "#     yaxis4=dict(\n",
    "#         title=\"yaxis4 title\",\n",
    "#         titlefont=dict(\n",
    "#             color=\"#9467bd\"\n",
    "#         ),\n",
    "#         tickfont=dict(\n",
    "#             color=\"#9467bd\"\n",
    "#         ),\n",
    "#         anchor=\"free\",\n",
    "#         overlaying=\"y\",\n",
    "#         side=\"right\",\n",
    "#         position=0.85\n",
    "#     )\n",
    "# )"
   ]
  }
 ],
 "metadata": {
  "kernelspec": {
   "display_name": "Python 3",
   "language": "python",
   "name": "python3"
  },
  "language_info": {
   "codemirror_mode": {
    "name": "ipython",
    "version": 3
   },
   "file_extension": ".py",
   "mimetype": "text/x-python",
   "name": "python",
   "nbconvert_exporter": "python",
   "pygments_lexer": "ipython3",
   "version": "3.8.3"
  }
 },
 "nbformat": 4,
 "nbformat_minor": 4
}
