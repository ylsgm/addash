{
 "cells": [
  {
   "cell_type": "code",
   "execution_count": null,
   "metadata": {},
   "outputs": [],
   "source": [
    "sys.path.append(r\"C:/__PYP/__COMMON/\")\n",
    "from ugenelib.clie_class_main  import clie_class_main\n",
    "from ugenelib.csv_class_main import csv_class_main\n",
    "from ugenelib.colordf import colordf\n",
    "from ugenelib.ugparser import ugparser\n",
    "from prefabdf import * # <== this was added 2020-01, for df tabulate and easy setup of test df.\n",
    "import pandas as pd\n",
    "import numpy as np"
   ]
  },
  {
   "cell_type": "code",
   "execution_count": null,
   "metadata": {},
   "outputs": [],
   "source": [
    "# [IMPORTANT] pdf AND pgp HAS TO BE RUN IN THE SAME SCOPE OF YOUR MAIN.IPYNB\n",
    "# THE `eval(code)` HAS TO BE RUN IN THE SAME SCOPE, IF IT IS IN A DIFFERENT FILE, IT CAN NOT RESOLVE VARIABLES\n",
    "# [v] try to use tabulate\n",
    "try:\n",
    "    from tabulate import tabulate\n",
    "except ImportError as e:\n",
    "    print(\"$ conda install tabulate | from tabulate import tabulate\")\n",
    "\n",
    "# print df\n",
    "def printdf(code, dfname: str = None):\n",
    "    \"\"\"\n",
    "    example: printdf(mydf, 'mydf'); printdf(mydf); printdf('mydf')\n",
    "    @para code: could be df, sr, or string\n",
    "    \"\"\" \n",
    "\n",
    "    if type(code)==str:\n",
    "        df = eval(code)\n",
    "        dfname = code if dfname is None else dfname\n",
    "    else:\n",
    "        df = code\n",
    "\n",
    "    if type(df) == pd.DataFrame:\n",
    "        print(\n",
    "            f'[df] {dfname}:\\n',\n",
    "            tabulate(df, headers='keys', tablefmt='psql'),'\\n', sep=''\n",
    "        )\n",
    "    elif type(df) == pd.Series:\n",
    "        print(\n",
    "            f'[sr] {dfname}:\\n',\n",
    "            tabulate(df.to_frame(), headers='keys', tablefmt='psql'),'\\n', sep=''\n",
    "        )\n",
    "\n",
    "# print groupby\n",
    "def printgp(gb):\n",
    "    \"\"\"pretty print groupby\n",
    "        gb is pd's groupby obj\n",
    "    \"\"\"\n",
    "    for gn, adf in gb:\n",
    "        printdf(adf, f'[group] {gn}')"
   ]
  }
 ],
 "metadata": {
  "kernelspec": {
   "display_name": "Python 3",
   "language": "python",
   "name": "python3"
  },
  "language_info": {
   "codemirror_mode": {
    "name": "ipython",
    "version": 3
   },
   "file_extension": ".py",
   "mimetype": "text/x-python",
   "name": "python",
   "nbconvert_exporter": "python",
   "pygments_lexer": "ipython3",
   "version": "3.8.3"
  }
 },
 "nbformat": 4,
 "nbformat_minor": 4
}
