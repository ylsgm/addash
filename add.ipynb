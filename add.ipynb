{
 "cells": [
  {
   "cell_type": "code",
   "execution_count": null,
   "metadata": {},
   "outputs": [],
   "source": [
    "https://plotly.com/python/reference/\n",
    "    # all dash api reference in one page \n",
    " "
   ]
  },
  {
   "cell_type": "raw",
   "metadata": {},
   "source": [
    "[+] py ==> json ==> plotly.js ==> html\n",
    "plotly.js the html rendering engine. it take JSON text (serialization of object using text). \n",
    "python lib of plotly translate your code into JSON, feeds it to plotly.js engine.\n",
    "fig is the json file. use fig.show(\"json\") to show fig's true nature.\n",
    "\n",
    "\n",
    "[+] fig.json = {data==traces, layout, frames}\n",
    "data:\n",
    "defines a list of typed objects called \"traces\", Each trace is drawn on a single subplot. \"Scatter\" is one kind of trace.\n",
    "layout: Subplots of various types on which can be drawn multiple traces and which are positioned in paper coordinates:\n",
    "xaxis, yaxis, xaxis2, yaxis3 etc: X and Y cartesian axes, the intersections of which are cartesian subplots\n",
    "\n",
    "layout:\n",
    "layout.width refers to the attribute whose key is width inside a dict which is the value associated with a key \"layout\" at the root of the figure. \n",
    "If one of the parents is a list rather than a dict, a set of brackets is inserted in the path when referring to the attribute in the abstract, e.g. \"layout.annotations[].text\"\n",
    "\n",
    "frame:\n",
    "is usually left to be default\n",
    "for animations maybe?\n",
    "\n",
    "**\n",
    "attributes can be set either directly using Python object attributes e.g. fig.layout.title.font.family=\"Open Sans\" or using update methods and \"magic underscores\" e.g. fig.update_layout(title_font_family=\"Open Sans\")"
   ]
  },
  {
   "cell_type": "raw",
   "metadata": {},
   "source": [
    "hover:\n",
    "[go trace]\n",
    "    [0] hovertemplate =\n",
    "        '<extra></extra>'+\n",
    "        '<br><b>=%{y}</b>'+\n",
    "        '<br><i>timestamp</i>: %{x}<br>'+\n",
    "        '<extra></extra>',\n",
    "[layout]\n",
    "    [1] can use spikeline, but best approach is x unified\n",
    "    showspikes=True, # Show spike line for X-axis\n",
    "    # Format spike\n",
    "    spikethickness=1,\n",
    "    spikedash=\"dot\",\n",
    "    spikecolor=\"#555555\",\n",
    "    spikemode=\"across\","
   ]
  },
  {
   "cell_type": "raw",
   "metadata": {},
   "source": [
    "[TODO]\n",
    "\n",
    "[+]\n",
    "disable autoscaling of axis when hidding subplots \n",
    "zero alignment\n",
    "two big headaches can be solved by specifying axis range\n",
    "\n",
    "layout = go.Layout(\n",
    "    scene = dict(\n",
    "        xaxis = dict(\n",
    "        nticks=4, range = [-100,100],),\n",
    "        yaxis = dict(\n",
    "        nticks=4, range = [-50,100],),\n",
    "        zaxis = dict(\n",
    "        nticks=4, range = [-100,100],),),\n",
    "        width=700,\n",
    "        margin=dict(\n",
    "        r=20, l=10,\n",
    "        b=10, t=10)\n",
    ")\n",
    "\n",
    "[+] \n",
    "chsh of useful dictionary entries with all trees included:\n",
    "\n",
    "mychart = go.Scattergl(\n",
    "        x=df.index,\n",
    "        y=df.col,\n",
    "        marker_color=color,  # Defines specific color for a trace\n",
    "        legendgroup=df.col.name,  # Groups traces belonging to the same group in the legend \n",
    "        name=df.col.name    \n",
    ")\n",
    "\n",
    "layout = go.Layout(\n",
    "    # title=\"layout adjust\", # this doesn't work, what is for?\n",
    "    title_text=\"multiple y-axes example\",\n",
    "    plot_bgcolor=\"#FFF\",  # Sets background color to white\n",
    "    xaxis=dict(\n",
    "        title=\"time\",\n",
    "        linecolor=\"#BCCCDC\",  # Sets color of X-axis line\n",
    "        showgrid=False  # Removes X-axis grid lines\n",
    "        range=[df.index[0], df.index[-1]],\n",
    "        range=[2, 3], # for string based ticks\n",
    "        rangeslider=dict(\n",
    "            visible=True\n",
    "        ),\n",
    "    ),\n",
    "    yaxis=dict(\n",
    "        title=\"price\",  \n",
    "        linecolor=\"#BCCCDC\",  # Sets color of Y-axis line\n",
    "        showgrid=False,  # Removes Y-axis grid lines    \n",
    "    ),\n",
    "\n",
    "    width=1200,\n",
    "    height=600,\n",
    ")\n",
    "\n",
    "# Update layout properties\n",
    "fig = fig.update_layout(\n",
    "    layout\n",
    ")\n"
   ]
  },
  {
   "cell_type": "raw",
   "metadata": {},
   "source": [
    "[↓] google Multi-Page Apps and URL Support"
   ]
  },
  {
   "cell_type": "raw",
   "metadata": {},
   "source": [
    "[↓] https://plotly.com/python/creating-and-updating-figures/\n",
    "    plotly.io with dictionary\n",
    "    go.figure with normal approach"
   ]
  }
 ],
 "metadata": {
  "kernelspec": {
   "display_name": "Python 3",
   "language": "python",
   "name": "python3"
  },
  "language_info": {
   "codemirror_mode": {
    "name": "ipython",
    "version": 3
   },
   "file_extension": ".py",
   "mimetype": "text/x-python",
   "name": "python",
   "nbconvert_exporter": "python",
   "pygments_lexer": "ipython3",
   "version": "3.8.3"
  }
 },
 "nbformat": 4,
 "nbformat_minor": 4
}
