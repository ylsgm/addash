{
 "cells": [
  {
   "cell_type": "code",
   "execution_count": 1,
   "metadata": {},
   "outputs": [
    {
     "name": "stdout",
     "output_type": "stream",
     "text": [
      "@\n",
      "        # 6700k-1080 \n",
      "        # 2020-07-26 09:54:30.655206 \n",
      "        # 3.7.6 (default, Jan  8 2020, 20:23:39) [MSC v.1916 64 bit (AMD64)] \n",
      "        \n"
     ]
    }
   ],
   "source": [
    "%run C:/__PYP/__COMMON/ugenejupyterlib/firstcell.ipynb"
   ]
  },
  {
   "cell_type": "raw",
   "metadata": {},
   "source": [
    "[TODO]\n",
    "\n",
    "[+]\n",
    "disable autoscaling of axis when hidding subplots \n",
    "zero alignment\n",
    "two big headaches can be solved by specifying axis range\n",
    "\n",
    "layout = go.Layout(\n",
    "    scene = dict(\n",
    "        xaxis = dict(\n",
    "        nticks=4, range = [-100,100],),\n",
    "        yaxis = dict(\n",
    "        nticks=4, range = [-50,100],),\n",
    "        zaxis = dict(\n",
    "        nticks=4, range = [-100,100],),),\n",
    "        width=700,\n",
    "        margin=dict(\n",
    "        r=20, l=10,\n",
    "        b=10, t=10)\n",
    ")\n",
    "\n",
    "[+] \n",
    "chsh of useful dictionary entries with all trees included:\n",
    "\n",
    "mychart = go.Scattergl(\n",
    "        x=df.index,\n",
    "        y=df.col,\n",
    "        marker_color=color,  # Defines specific color for a trace\n",
    "        legendgroup=df.col.name,  # Groups traces belonging to the same group in the legend \n",
    "        name=df.col.name    \n",
    ")\n",
    "\n",
    "layout = go.Layout(\n",
    "    # title=\"layout adjust\", # this doesn't work, what is for?\n",
    "    title_text=\"multiple y-axes example\",\n",
    "    plot_bgcolor=\"#FFF\",  # Sets background color to white\n",
    "    xaxis=dict(\n",
    "        title=\"time\",\n",
    "        linecolor=\"#BCCCDC\",  # Sets color of X-axis line\n",
    "        showgrid=False  # Removes X-axis grid lines\n",
    "    ),\n",
    "    yaxis=dict(\n",
    "        title=\"price\",  \n",
    "        linecolor=\"#BCCCDC\",  # Sets color of Y-axis line\n",
    "        showgrid=False,  # Removes Y-axis grid lines    \n",
    "    ),\n",
    "\n",
    "    width=1200,\n",
    "    height=600,\n",
    ")\n",
    "\n",
    "# Update layout properties\n",
    "fig = fig.update_layout(\n",
    "    layout\n",
    ")\n"
   ]
  },
  {
   "cell_type": "code",
   "execution_count": null,
   "metadata": {},
   "outputs": [],
   "source": [
    "https://plotly.com/python/reference/"
   ]
  },
  {
   "cell_type": "raw",
   "metadata": {},
   "source": [
    "fig is a just a json file, fig.show(\"json\"), to be rendered by plotly.js engine\n",
    "\n",
    "The root node of the tree has three top-level attributes: data, layout and frames\n",
    "layout.width refers to the attribute whose key is width inside a dict which is the value associated with a key \"layout\" at the root of the figure. \n",
    "If one of the parents is a list rather than a dict, a set of brackets is inserted in the path when referring to the attribute in the abstract, e.g. \"layout.annotations[].text\"\n",
    "\n",
    "data attribute defines a list of typed objects called \"traces\", Each trace is drawn on a single subplot. \"Scatter\" is one kind of trace.\n",
    "layout: Subplots of various types on which can be drawn multiple traces and which are positioned in paper coordinates:\n",
    "xaxis, yaxis, xaxis2, yaxis3 etc: X and Y cartesian axes, the intersections of which are cartesian subplots\n",
    "frame is usually left to be default\n",
    "all the talk about data layout and frame is just mumble jumble\n",
    "the best way is to print(fig) and see the jason file yourself.\n",
    "\n",
    "attributes can be set either directly using Python object attributes e.g. fig.layout.title.font.family=\"Open Sans\" or using update methods and \"magic underscores\" e.g. fig.update_layout(title_font_family=\"Open Sans\")"
   ]
  },
  {
   "cell_type": "code",
   "execution_count": 14,
   "metadata": {},
   "outputs": [
    {
     "data": {
      "text/plain": [
       "Renderers configuration\n",
       "-----------------------\n",
       "    Default renderer: 'plotly_mimetype+notebook'\n",
       "    Available renderers:\n",
       "        ['plotly_mimetype', 'jupyterlab', 'nteract', 'vscode',\n",
       "         'notebook', 'notebook_connected', 'kaggle', 'azure', 'colab',\n",
       "         'cocalc', 'databricks', 'json', 'png', 'jpeg', 'jpg', 'svg',\n",
       "         'pdf', 'browser', 'firefox', 'chrome', 'chromium', 'iframe',\n",
       "         'iframe_connected', 'sphinx_gallery', 'sphinx_gallery_png']"
      ]
     },
     "execution_count": 14,
     "metadata": {},
     "output_type": "execute_result"
    }
   ],
   "source": [
    "import plotly.io as pio\n",
    "pio.renderers"
   ]
  },
  {
   "cell_type": "code",
   "execution_count": 44,
   "metadata": {},
   "outputs": [
    {
     "data": {
      "application/vnd.plotly.v1+json": {
       "config": {
        "plotlyServerURL": "https://plot.ly"
       },
       "data": [
        {
         "legendgroup": "Acompany",
         "marker": {
          "color": "#38BEC9"
         },
         "name": "Acompany",
         "type": "scatter",
         "x": [
          0,
          1,
          2,
          3,
          4,
          5,
          6,
          7,
          8,
          9,
          10,
          11,
          12,
          13,
          14,
          15,
          16,
          17,
          18,
          19,
          20,
          21,
          22,
          23,
          24,
          25,
          26,
          27,
          28,
          29,
          30,
          31,
          32,
          33,
          34,
          35,
          36,
          37,
          38,
          39,
          40,
          41,
          42,
          43,
          44,
          45,
          46,
          47,
          48,
          49,
          50,
          51,
          52,
          53,
          54,
          55,
          56,
          57,
          58,
          59,
          60,
          61,
          62,
          63,
          64,
          65,
          66,
          67,
          68,
          69,
          70,
          71,
          72,
          73,
          74,
          75,
          76,
          77,
          78,
          79,
          80,
          81,
          82,
          83,
          84,
          85,
          86,
          87,
          88,
          89,
          90,
          91,
          92,
          93,
          94,
          95,
          96,
          97,
          98,
          99
         ],
         "y": [
          111.55447276631966,
          109.60249691834565,
          126.01461143225268,
          172.6046700338074,
          166.36316842931524,
          160.34789025432207,
          222.11345991757656,
          261.56302761698055,
          240.51450526239404,
          270.776135000145,
          249.2880040458175,
          229.39901711802895,
          243.19300185780656,
          167.53617958957446,
          119.84697959126889,
          108.17586183679062,
          89.22774457615769,
          95.97056171045878,
          80.83715350818882,
          61.557761180467764,
          83.3547581545783,
          80.47531037037449,
          82.38934125486044,
          62.58379868135761,
          56.69181775779158,
          58.5460960510469,
          46.97500703946827,
          51.14963205004648,
          45.81573361504905,
          43.653733482884064,
          39.09315893702362,
          57.19137643177289,
          57.610433035597595,
          47.09474834026191,
          56.0739007508695,
          44.3672572039067,
          46.72477164075374,
          31.89152948836297,
          24.697529823095383,
          25.947505521298257,
          30.379522961067206,
          31.754754141888082,
          31.340550256132442,
          29.805473623520996,
          22.398358103254946,
          19.58999184228042,
          18.04540463202886,
          22.518011646416337,
          24.362356253526237,
          17.29523678811551,
          18.638846556107577,
          17.430673014757694,
          15.37660304214303,
          17.552253196385482,
          21.78849838238851,
          26.51308162066303,
          22.641732009772504,
          21.49783596843837,
          23.20122232525389,
          28.483187164326147,
          26.14032501049731,
          25.44062602933242,
          20.595659535596027,
          16.37636319527979,
          19.459671407909106,
          25.779824678679407,
          25.666590675849122,
          31.686691051487514,
          34.405758791151094,
          30.544969457005728,
          33.16447016984517,
          45.5625651905479,
          45.69190883852327,
          63.108152690456144,
          37.74680902882985,
          44.937895832742015,
          46.18665287816117,
          43.94282633619902,
          45.20652988206295,
          30.68358312399416,
          29.659823393726885,
          32.175841166966194,
          43.675823262470715,
          39.77110572914309,
          34.17320786695916,
          31.220987115411436,
          37.870443621649095,
          40.850586479501274,
          37.11306772401548,
          41.53857958590121,
          42.77860668625683,
          52.4451117361934,
          46.032907132427326,
          43.546271432930894,
          40.66641035218993,
          30.652047525831062,
          32.84907279181588,
          34.95755367797753,
          35.345011492722925,
          34.06395673721769
         ]
        },
        {
         "legendgroup": "Acompany",
         "marker": {
          "color": "#38BEC9"
         },
         "showlegend": false,
         "type": "histogram",
         "x": [
          0.10934283060224653,
          -0.017652860234236935,
          0.1395377076201385,
          0.3146059712816051,
          -0.03683067494466719,
          -0.03682739138983611,
          0.3258425631014783,
          0.16348694583058176,
          -0.08389487718699043,
          0.11851200871719293,
          -0.08268353856249246,
          -0.08314595071405138,
          0.058392454313206825,
          -0.37265604893155957,
          -0.3349835665026066,
          -0.10245750584819455,
          -0.19256622406688476,
          0.07284946651905477,
          -0.1716048151042422,
          -0.2724607402670583,
          0.30312975378431084,
          -0.035155260097307135,
          0.023505640937584768,
          -0.27494963724269134,
          -0.09887654490503654,
          0.03218451794197322,
          -0.22019871548446057,
          0.0851396036691344,
          -0.110127737983761,
          -0.04833874995865536,
          -0.1103413224458794,
          0.3804556369017876,
          0.007300555052413216,
          -0.20154218579118008,
          0.17450898242063784,
          -0.23416872999420446,
          0.05177271900095109,
          -0.3819340247759551,
          -0.2556372097796861,
          0.049372247173824706,
          0.1576933159990821,
          0.044273656237994105,
          -0.013129656477648107,
          -0.05022073911785776,
          -0.28570439807348547,
          -0.1339688416789417,
          -0.08212775419195752,
          0.22142444524378316,
          0.07872365791369228,
          -0.3426080310725468,
          0.074816793878959,
          -0.06701645608326331,
          -0.12538440006119175,
          0.1323352577681736,
          0.21619990449919022,
          0.19625602382323973,
          -0.1578435046445277,
          -0.051842475170242916,
          0.07625268628071279,
          0.20510902542447185,
          -0.085834847569058,
          -0.02713179533276342,
          -0.21126699480120564,
          -0.22924132481613416,
          0.17250516447883962,
          0.2812480057141646,
          -0.004402024316066769,
          0.21070657957840486,
          0.08232720500952682,
          -0.11902395092102487,
          0.08227912110168278,
          0.31760731329319386,
          0.002834792178009692,
          0.3229287311628013,
          -0.5139490208179489,
          0.17438050087504478,
          0.027409413647634245,
          -0.04980147009317349,
          0.02835215530710046,
          -0.3875137829201786,
          -0.03393437756750239,
          0.08142251430234929,
          0.30557880894830325,
          -0.09365404365472949,
          -0.15169872057863754,
          -0.09035140871690732,
          0.19308042354041485,
          0.0757502219319369,
          -0.09595204075340777,
          0.11265348662267122,
          0.02941550986960808,
          0.20372899810657785,
          -0.13041061877547047,
          -0.05553242931955365,
          -0.06842163062643154,
          -0.2827029896264237,
          0.06922405541291521,
          0.062211054435977874,
          0.011022691328492179,
          -0.03691742667502938
         ],
         "xaxis": "x2",
         "yaxis": "y2"
        },
        {
         "legendgroup": "Bcompany",
         "marker": {
          "color": "#D64545"
         },
         "name": "Bcompany",
         "type": "scatter",
         "x": [
          0,
          1,
          2,
          3,
          4,
          5,
          6,
          7,
          8,
          9,
          10,
          11,
          12,
          13,
          14,
          15,
          16,
          17,
          18,
          19,
          20,
          21,
          22,
          23,
          24,
          25,
          26,
          27,
          28,
          29,
          30,
          31,
          32,
          33,
          34,
          35,
          36,
          37,
          38,
          39,
          40,
          41,
          42,
          43,
          44,
          45,
          46,
          47,
          48,
          49,
          50,
          51,
          52,
          53,
          54,
          55,
          56,
          57,
          58,
          59,
          60,
          61,
          62,
          63,
          64,
          65,
          66,
          67,
          68,
          69,
          70,
          71,
          72,
          73,
          74,
          75,
          76,
          77,
          78,
          79,
          80,
          81,
          82,
          83,
          84,
          85,
          86,
          87,
          88,
          89,
          90,
          91,
          92,
          93,
          94,
          95,
          96,
          97,
          98,
          99
         ],
         "y": [
          76.10363559009934,
          70.66617108455748,
          66.64793542125005,
          57.338288737320894,
          56.07619963292105,
          61.406865502572614,
          90.44652799014652,
          94.6015998561484,
          100.60324019633083,
          100.11257298754104,
          68.8920674226665,
          69.21643016385775,
          70.75932334316757,
          116.97178232965477,
          113.6883048882715,
          121.96937694171837,
          122.34288686600942,
          97.81637955068572,
          124.17062228698504,
          145.77192059659208,
          172.47453492225657,
          145.2377581550859,
          194.2082376155187,
          148.199710675752,
          168.33098320725125,
          263.4920783987701,
          218.3099931174507,
          196.89222416593927,
          202.87433878333601,
          185.28434327159178,
          137.24380593355775,
          140.53710473131036,
          114.77925956772854,
          127.45065727179725,
          107.10872510733789,
          147.50046407717895,
          127.38075391992116,
          120.63486761221876,
          143.37617974839182,
          113.21616325785284,
          119.67633943186414,
          156.99586671048655,
          114.97593336839216,
          120.49998194674694,
          128.20443803701983,
          151.40990117412522,
          119.41449522574763,
          92.62038626985174,
          103.84481119429427,
          111.30726378769458,
          118.20177116829089,
          127.95552354883775,
          112.80693153413908,
          119.35813679580963,
          127.83533891338168,
          111.92989495735095,
          164.19054935412814,
          182.32562263627258,
          145.11601477470174,
          167.1420828377239,
          138.92134533691274,
          164.23935291592414,
          209.14837925006572,
          179.27258790632433,
          219.55059581696995,
          240.84146517989117,
          286.7328448888621,
          423.22735830415184,
          407.007617519016,
          353.5711254588074,
          298.9217348385771,
          256.47205870178647,
          255.0856532503926,
          275.84242501550597,
          294.46729334920036,
          350.93625191463616,
          355.3861578480819,
          480.0603294227434,
          459.8868199644274,
          800.3220818611469,
          916.1203280298075,
          779.5495144332475,
          635.5798346175627,
          707.001078021255,
          682.8939888987287,
          795.6343590870193,
          883.4080903763332,
          879.3838350774145,
          749.8421601141548,
          559.415946201637,
          516.7660697736407,
          619.4735811468931,
          653.0729273667488,
          514.1633660805848,
          537.6335708134596,
          586.5399072992137,
          496.443272251888,
          517.0886050314011,
          528.40127550869,
          424.6485675562842
         ]
        },
        {
         "legendgroup": "Bcompany",
         "marker": {
          "color": "#D64545"
         },
         "showlegend": false,
         "type": "histogram",
         "x": [
          -0.2730741484100829,
          -0.07412906455307182,
          -0.058542903305353895,
          -0.1504554538443238,
          -0.022257142333201828,
          0.09081017136290769,
          0.38723718024210607,
          0.04491556256636779,
          0.06151007814455288,
          -0.004889183153233443,
          -0.3737542430598083,
          0.004697224910156624,
          0.02204604198820529,
          0.5026484224970572,
          -0.028472192956224503,
          0.0703094684667225,
          0.0030576460589513375,
          -0.22373560752390642,
          0.23856456290300412,
          0.16038660653735484,
          0.1682063894086094,
          -0.17187749095894778,
          0.2905588621872199,
          -0.27037021255845617,
          0.12737141876005406,
          0.44809112516199573,
          -0.18810726502613767,
          -0.10325954592055439,
          0.029930273017528243,
          -0.09069513082323985,
          -0.30013268621322653,
          0.023712594961205466,
          -0.20246074274522097,
          0.10471848612703631,
          -0.17388484684676064,
          0.3199868810035079,
          -0.14665065846724742,
          -0.054412303241135114,
          0.17270344347393396,
          -0.23617286328679105,
          0.05549198692082589,
          0.27142855085648565,
          -0.31149664691224555,
          0.04692677170646085,
          0.06197655884968471,
          0.1663645743554621,
          -0.23739014217561638,
          -0.25409132261685524,
          0.11438831312337953,
          0.06939693464663721,
          0.060098570069175315,
          0.07928964189939514,
          -0.12600494431569817,
          0.05645073943220071,
          0.06861449465973625,
          -0.13287028360527356,
          0.3831549022289513,
          0.1047665841823575,
          -0.22826069944052974,
          0.14131072172676595,
          -0.18493633404546428,
          0.16741692074849043,
          0.24171911580148084,
          -0.1541364636703421,
          0.20267522584886438,
          0.09255618538729966,
          0.17441203199889802,
          0.3893585965307895,
          -0.0390776232005741,
          -0.14074723287149793,
          -0.16790288592510466,
          -0.15316205699308766,
          -0.005420341882820841,
          0.07823039496332877,
          0.06533815986600382,
          0.17543664980720478,
          0.012600378375581405,
          0.3007068154314634,
          -0.042931366647591215,
          0.5540338333179238,
          0.13513346955300126,
          -0.1614315112832565,
          -0.20417849961222245,
          0.10649448304863705,
          -0.03469255706517018,
          0.1528000988184184,
          0.10464752491470897,
          -0.004565782531374555,
          -0.159358743613681,
          -0.2929694449371729,
          -0.07930299041340423,
          0.1812797588646945,
          0.0528187488260408,
          -0.2391477557423976,
          0.0446361851702364,
          0.08706347594576735,
          -0.1667714872402266,
          0.040745021189105585,
          0.02164174368919998,
          -0.21859405956612463
         ],
         "xaxis": "x2",
         "yaxis": "y2"
        }
       ],
       "layout": {
        "autosize": true,
        "barmode": "stack",
        "plot_bgcolor": "#FFFFFF",
        "template": {
         "data": {
          "bar": [
           {
            "error_x": {
             "color": "#2a3f5f"
            },
            "error_y": {
             "color": "#2a3f5f"
            },
            "marker": {
             "line": {
              "color": "#E5ECF6",
              "width": 0.5
             }
            },
            "type": "bar"
           }
          ],
          "barpolar": [
           {
            "marker": {
             "line": {
              "color": "#E5ECF6",
              "width": 0.5
             }
            },
            "type": "barpolar"
           }
          ],
          "carpet": [
           {
            "aaxis": {
             "endlinecolor": "#2a3f5f",
             "gridcolor": "white",
             "linecolor": "white",
             "minorgridcolor": "white",
             "startlinecolor": "#2a3f5f"
            },
            "baxis": {
             "endlinecolor": "#2a3f5f",
             "gridcolor": "white",
             "linecolor": "white",
             "minorgridcolor": "white",
             "startlinecolor": "#2a3f5f"
            },
            "type": "carpet"
           }
          ],
          "choropleth": [
           {
            "colorbar": {
             "outlinewidth": 0,
             "ticks": ""
            },
            "type": "choropleth"
           }
          ],
          "contour": [
           {
            "colorbar": {
             "outlinewidth": 0,
             "ticks": ""
            },
            "colorscale": [
             [
              0,
              "#0d0887"
             ],
             [
              0.1111111111111111,
              "#46039f"
             ],
             [
              0.2222222222222222,
              "#7201a8"
             ],
             [
              0.3333333333333333,
              "#9c179e"
             ],
             [
              0.4444444444444444,
              "#bd3786"
             ],
             [
              0.5555555555555556,
              "#d8576b"
             ],
             [
              0.6666666666666666,
              "#ed7953"
             ],
             [
              0.7777777777777778,
              "#fb9f3a"
             ],
             [
              0.8888888888888888,
              "#fdca26"
             ],
             [
              1,
              "#f0f921"
             ]
            ],
            "type": "contour"
           }
          ],
          "contourcarpet": [
           {
            "colorbar": {
             "outlinewidth": 0,
             "ticks": ""
            },
            "type": "contourcarpet"
           }
          ],
          "heatmap": [
           {
            "colorbar": {
             "outlinewidth": 0,
             "ticks": ""
            },
            "colorscale": [
             [
              0,
              "#0d0887"
             ],
             [
              0.1111111111111111,
              "#46039f"
             ],
             [
              0.2222222222222222,
              "#7201a8"
             ],
             [
              0.3333333333333333,
              "#9c179e"
             ],
             [
              0.4444444444444444,
              "#bd3786"
             ],
             [
              0.5555555555555556,
              "#d8576b"
             ],
             [
              0.6666666666666666,
              "#ed7953"
             ],
             [
              0.7777777777777778,
              "#fb9f3a"
             ],
             [
              0.8888888888888888,
              "#fdca26"
             ],
             [
              1,
              "#f0f921"
             ]
            ],
            "type": "heatmap"
           }
          ],
          "heatmapgl": [
           {
            "colorbar": {
             "outlinewidth": 0,
             "ticks": ""
            },
            "colorscale": [
             [
              0,
              "#0d0887"
             ],
             [
              0.1111111111111111,
              "#46039f"
             ],
             [
              0.2222222222222222,
              "#7201a8"
             ],
             [
              0.3333333333333333,
              "#9c179e"
             ],
             [
              0.4444444444444444,
              "#bd3786"
             ],
             [
              0.5555555555555556,
              "#d8576b"
             ],
             [
              0.6666666666666666,
              "#ed7953"
             ],
             [
              0.7777777777777778,
              "#fb9f3a"
             ],
             [
              0.8888888888888888,
              "#fdca26"
             ],
             [
              1,
              "#f0f921"
             ]
            ],
            "type": "heatmapgl"
           }
          ],
          "histogram": [
           {
            "marker": {
             "colorbar": {
              "outlinewidth": 0,
              "ticks": ""
             }
            },
            "type": "histogram"
           }
          ],
          "histogram2d": [
           {
            "colorbar": {
             "outlinewidth": 0,
             "ticks": ""
            },
            "colorscale": [
             [
              0,
              "#0d0887"
             ],
             [
              0.1111111111111111,
              "#46039f"
             ],
             [
              0.2222222222222222,
              "#7201a8"
             ],
             [
              0.3333333333333333,
              "#9c179e"
             ],
             [
              0.4444444444444444,
              "#bd3786"
             ],
             [
              0.5555555555555556,
              "#d8576b"
             ],
             [
              0.6666666666666666,
              "#ed7953"
             ],
             [
              0.7777777777777778,
              "#fb9f3a"
             ],
             [
              0.8888888888888888,
              "#fdca26"
             ],
             [
              1,
              "#f0f921"
             ]
            ],
            "type": "histogram2d"
           }
          ],
          "histogram2dcontour": [
           {
            "colorbar": {
             "outlinewidth": 0,
             "ticks": ""
            },
            "colorscale": [
             [
              0,
              "#0d0887"
             ],
             [
              0.1111111111111111,
              "#46039f"
             ],
             [
              0.2222222222222222,
              "#7201a8"
             ],
             [
              0.3333333333333333,
              "#9c179e"
             ],
             [
              0.4444444444444444,
              "#bd3786"
             ],
             [
              0.5555555555555556,
              "#d8576b"
             ],
             [
              0.6666666666666666,
              "#ed7953"
             ],
             [
              0.7777777777777778,
              "#fb9f3a"
             ],
             [
              0.8888888888888888,
              "#fdca26"
             ],
             [
              1,
              "#f0f921"
             ]
            ],
            "type": "histogram2dcontour"
           }
          ],
          "mesh3d": [
           {
            "colorbar": {
             "outlinewidth": 0,
             "ticks": ""
            },
            "type": "mesh3d"
           }
          ],
          "parcoords": [
           {
            "line": {
             "colorbar": {
              "outlinewidth": 0,
              "ticks": ""
             }
            },
            "type": "parcoords"
           }
          ],
          "pie": [
           {
            "automargin": true,
            "type": "pie"
           }
          ],
          "scatter": [
           {
            "marker": {
             "colorbar": {
              "outlinewidth": 0,
              "ticks": ""
             }
            },
            "type": "scatter"
           }
          ],
          "scatter3d": [
           {
            "line": {
             "colorbar": {
              "outlinewidth": 0,
              "ticks": ""
             }
            },
            "marker": {
             "colorbar": {
              "outlinewidth": 0,
              "ticks": ""
             }
            },
            "type": "scatter3d"
           }
          ],
          "scattercarpet": [
           {
            "marker": {
             "colorbar": {
              "outlinewidth": 0,
              "ticks": ""
             }
            },
            "type": "scattercarpet"
           }
          ],
          "scattergeo": [
           {
            "marker": {
             "colorbar": {
              "outlinewidth": 0,
              "ticks": ""
             }
            },
            "type": "scattergeo"
           }
          ],
          "scattergl": [
           {
            "marker": {
             "colorbar": {
              "outlinewidth": 0,
              "ticks": ""
             }
            },
            "type": "scattergl"
           }
          ],
          "scattermapbox": [
           {
            "marker": {
             "colorbar": {
              "outlinewidth": 0,
              "ticks": ""
             }
            },
            "type": "scattermapbox"
           }
          ],
          "scatterpolar": [
           {
            "marker": {
             "colorbar": {
              "outlinewidth": 0,
              "ticks": ""
             }
            },
            "type": "scatterpolar"
           }
          ],
          "scatterpolargl": [
           {
            "marker": {
             "colorbar": {
              "outlinewidth": 0,
              "ticks": ""
             }
            },
            "type": "scatterpolargl"
           }
          ],
          "scatterternary": [
           {
            "marker": {
             "colorbar": {
              "outlinewidth": 0,
              "ticks": ""
             }
            },
            "type": "scatterternary"
           }
          ],
          "surface": [
           {
            "colorbar": {
             "outlinewidth": 0,
             "ticks": ""
            },
            "colorscale": [
             [
              0,
              "#0d0887"
             ],
             [
              0.1111111111111111,
              "#46039f"
             ],
             [
              0.2222222222222222,
              "#7201a8"
             ],
             [
              0.3333333333333333,
              "#9c179e"
             ],
             [
              0.4444444444444444,
              "#bd3786"
             ],
             [
              0.5555555555555556,
              "#d8576b"
             ],
             [
              0.6666666666666666,
              "#ed7953"
             ],
             [
              0.7777777777777778,
              "#fb9f3a"
             ],
             [
              0.8888888888888888,
              "#fdca26"
             ],
             [
              1,
              "#f0f921"
             ]
            ],
            "type": "surface"
           }
          ],
          "table": [
           {
            "cells": {
             "fill": {
              "color": "#EBF0F8"
             },
             "line": {
              "color": "white"
             }
            },
            "header": {
             "fill": {
              "color": "#C8D4E3"
             },
             "line": {
              "color": "white"
             }
            },
            "type": "table"
           }
          ]
         },
         "layout": {
          "annotationdefaults": {
           "arrowcolor": "#2a3f5f",
           "arrowhead": 0,
           "arrowwidth": 1
          },
          "coloraxis": {
           "colorbar": {
            "outlinewidth": 0,
            "ticks": ""
           }
          },
          "colorscale": {
           "diverging": [
            [
             0,
             "#8e0152"
            ],
            [
             0.1,
             "#c51b7d"
            ],
            [
             0.2,
             "#de77ae"
            ],
            [
             0.3,
             "#f1b6da"
            ],
            [
             0.4,
             "#fde0ef"
            ],
            [
             0.5,
             "#f7f7f7"
            ],
            [
             0.6,
             "#e6f5d0"
            ],
            [
             0.7,
             "#b8e186"
            ],
            [
             0.8,
             "#7fbc41"
            ],
            [
             0.9,
             "#4d9221"
            ],
            [
             1,
             "#276419"
            ]
           ],
           "sequential": [
            [
             0,
             "#0d0887"
            ],
            [
             0.1111111111111111,
             "#46039f"
            ],
            [
             0.2222222222222222,
             "#7201a8"
            ],
            [
             0.3333333333333333,
             "#9c179e"
            ],
            [
             0.4444444444444444,
             "#bd3786"
            ],
            [
             0.5555555555555556,
             "#d8576b"
            ],
            [
             0.6666666666666666,
             "#ed7953"
            ],
            [
             0.7777777777777778,
             "#fb9f3a"
            ],
            [
             0.8888888888888888,
             "#fdca26"
            ],
            [
             1,
             "#f0f921"
            ]
           ],
           "sequentialminus": [
            [
             0,
             "#0d0887"
            ],
            [
             0.1111111111111111,
             "#46039f"
            ],
            [
             0.2222222222222222,
             "#7201a8"
            ],
            [
             0.3333333333333333,
             "#9c179e"
            ],
            [
             0.4444444444444444,
             "#bd3786"
            ],
            [
             0.5555555555555556,
             "#d8576b"
            ],
            [
             0.6666666666666666,
             "#ed7953"
            ],
            [
             0.7777777777777778,
             "#fb9f3a"
            ],
            [
             0.8888888888888888,
             "#fdca26"
            ],
            [
             1,
             "#f0f921"
            ]
           ]
          },
          "colorway": [
           "#636efa",
           "#EF553B",
           "#00cc96",
           "#ab63fa",
           "#FFA15A",
           "#19d3f3",
           "#FF6692",
           "#B6E880",
           "#FF97FF",
           "#FECB52"
          ],
          "font": {
           "color": "#2a3f5f"
          },
          "geo": {
           "bgcolor": "white",
           "lakecolor": "white",
           "landcolor": "#E5ECF6",
           "showlakes": true,
           "showland": true,
           "subunitcolor": "white"
          },
          "hoverlabel": {
           "align": "left"
          },
          "hovermode": "closest",
          "mapbox": {
           "style": "light"
          },
          "paper_bgcolor": "white",
          "plot_bgcolor": "#E5ECF6",
          "polar": {
           "angularaxis": {
            "gridcolor": "white",
            "linecolor": "white",
            "ticks": ""
           },
           "bgcolor": "#E5ECF6",
           "radialaxis": {
            "gridcolor": "white",
            "linecolor": "white",
            "ticks": ""
           }
          },
          "scene": {
           "xaxis": {
            "backgroundcolor": "#E5ECF6",
            "gridcolor": "white",
            "gridwidth": 2,
            "linecolor": "white",
            "showbackground": true,
            "ticks": "",
            "zerolinecolor": "white"
           },
           "yaxis": {
            "backgroundcolor": "#E5ECF6",
            "gridcolor": "white",
            "gridwidth": 2,
            "linecolor": "white",
            "showbackground": true,
            "ticks": "",
            "zerolinecolor": "white"
           },
           "zaxis": {
            "backgroundcolor": "#E5ECF6",
            "gridcolor": "white",
            "gridwidth": 2,
            "linecolor": "white",
            "showbackground": true,
            "ticks": "",
            "zerolinecolor": "white"
           }
          },
          "shapedefaults": {
           "line": {
            "color": "#2a3f5f"
           }
          },
          "ternary": {
           "aaxis": {
            "gridcolor": "white",
            "linecolor": "white",
            "ticks": ""
           },
           "baxis": {
            "gridcolor": "white",
            "linecolor": "white",
            "ticks": ""
           },
           "bgcolor": "#E5ECF6",
           "caxis": {
            "gridcolor": "white",
            "linecolor": "white",
            "ticks": ""
           }
          },
          "title": {
           "x": 0.05
          },
          "xaxis": {
           "automargin": true,
           "gridcolor": "white",
           "linecolor": "white",
           "ticks": "",
           "title": {
            "standoff": 15
           },
           "zerolinecolor": "white",
           "zerolinewidth": 2
          },
          "yaxis": {
           "automargin": true,
           "gridcolor": "white",
           "linecolor": "white",
           "ticks": "",
           "title": {
            "standoff": 15
           },
           "zerolinecolor": "white",
           "zerolinewidth": 2
          }
         }
        },
        "xaxis": {
         "autorange": true,
         "domain": [
          0,
          0.5
         ],
         "linecolor": "#BCCCDC",
         "range": [
          0,
          99
         ],
         "title": {
          "text": "time"
         },
         "type": "linear"
        },
        "xaxis2": {
         "autorange": true,
         "domain": [
          0.6,
          1
         ],
         "linecolor": "#BCCCDC",
         "range": [
          -0.55,
          0.5999999999999999
         ],
         "title": {
          "text": "returns"
         },
         "type": "linear"
        },
        "yaxis": {
         "autorange": true,
         "linecolor": "#BCCCDC",
         "range": [
          -34.664715012727214,
          966.1616460846777
         ],
         "title": {
          "text": "price"
         },
         "type": "linear"
        },
        "yaxis2": {
         "anchor": "x2",
         "autorange": true,
         "linecolor": "#BCCCDC",
         "range": [
          0,
          29.473684210526315
         ]
        }
       }
      },
      "image/png": "[encoded data removed]"
     },
     "metadata": {},
     "output_type": "display_data"
    }
   ],
   "source": [
    "import plotly.io as pio\n",
    "pio.renderers.default = \"jupyterlab\"\n",
    "fig"
   ]
  },
  {
   "cell_type": "code",
   "execution_count": 13,
   "metadata": {},
   "outputs": [
    {
     "name": "stdout",
     "output_type": "stream",
     "text": [
      "Figure({\n",
      "    'data': [{'connectgaps': True,\n",
      "              'mode': 'lines+markers',\n",
      "              'name': 'a',\n",
      "              'type': 'scattergl',\n",
      "              'x': array([datetime.datetime(2020, 1, 1, 0, 0),\n",
      "                          datetime.datetime(2020, 1, 1, 1, 0),\n",
      "                          datetime.datetime(2020, 1, 1, 2, 0),\n",
      "                          datetime.datetime(2020, 1, 1, 3, 0),\n",
      "                          datetime.datetime(2020, 1, 1, 4, 0),\n",
      "                          datetime.datetime(2020, 1, 1, 5, 0),\n",
      "                          datetime.datetime(2020, 1, 1, 6, 0),\n",
      "                          datetime.datetime(2020, 1, 1, 6, 10),\n",
      "                          datetime.datetime(2020, 1, 1, 6, 21),\n",
      "                          datetime.datetime(2020, 1, 1, 6, 32),\n",
      "                          datetime.datetime(2020, 1, 1, 6, 43),\n",
      "                          datetime.datetime(2020, 1, 1, 6, 54),\n",
      "                          datetime.datetime(2020, 1, 1, 7, 0),\n",
      "                          datetime.datetime(2020, 1, 1, 7, 5),\n",
      "                          datetime.datetime(2020, 1, 1, 7, 16),\n",
      "                          datetime.datetime(2020, 1, 1, 7, 27),\n",
      "                          datetime.datetime(2020, 1, 1, 7, 38),\n",
      "                          datetime.datetime(2020, 1, 1, 7, 49),\n",
      "                          datetime.datetime(2020, 1, 1, 8, 0),\n",
      "                          datetime.datetime(2020, 1, 1, 8, 11),\n",
      "                          datetime.datetime(2020, 1, 1, 8, 22),\n",
      "                          datetime.datetime(2020, 1, 1, 8, 33),\n",
      "                          datetime.datetime(2020, 1, 1, 8, 44),\n",
      "                          datetime.datetime(2020, 1, 1, 8, 55),\n",
      "                          datetime.datetime(2020, 1, 1, 9, 0),\n",
      "                          datetime.datetime(2020, 1, 1, 9, 6),\n",
      "                          datetime.datetime(2020, 1, 1, 9, 17),\n",
      "                          datetime.datetime(2020, 1, 1, 9, 28),\n",
      "                          datetime.datetime(2020, 1, 1, 9, 39)], dtype=object),\n",
      "              'y': array([ 484.,  429.,  159.,   77., -130.,  400.,  114.,   nan,   nan,   nan,\n",
      "                            nan,   nan,  351.,   nan,   nan,   nan,   nan,   nan,  -26.,   nan,\n",
      "                            nan,   nan,   nan,   nan,  477.,   nan,   nan,   nan,   nan]),\n",
      "              'yaxis': 'y'},\n",
      "             {'connectgaps': True,\n",
      "              'mode': 'lines+markers',\n",
      "              'name': 'b',\n",
      "              'type': 'scattergl',\n",
      "              'x': array([datetime.datetime(2020, 1, 1, 0, 0),\n",
      "                          datetime.datetime(2020, 1, 1, 1, 0),\n",
      "                          datetime.datetime(2020, 1, 1, 2, 0),\n",
      "                          datetime.datetime(2020, 1, 1, 3, 0),\n",
      "                          datetime.datetime(2020, 1, 1, 4, 0),\n",
      "                          datetime.datetime(2020, 1, 1, 5, 0),\n",
      "                          datetime.datetime(2020, 1, 1, 6, 0),\n",
      "                          datetime.datetime(2020, 1, 1, 6, 10),\n",
      "                          datetime.datetime(2020, 1, 1, 6, 21),\n",
      "                          datetime.datetime(2020, 1, 1, 6, 32),\n",
      "                          datetime.datetime(2020, 1, 1, 6, 43),\n",
      "                          datetime.datetime(2020, 1, 1, 6, 54),\n",
      "                          datetime.datetime(2020, 1, 1, 7, 0),\n",
      "                          datetime.datetime(2020, 1, 1, 7, 5),\n",
      "                          datetime.datetime(2020, 1, 1, 7, 16),\n",
      "                          datetime.datetime(2020, 1, 1, 7, 27),\n",
      "                          datetime.datetime(2020, 1, 1, 7, 38),\n",
      "                          datetime.datetime(2020, 1, 1, 7, 49),\n",
      "                          datetime.datetime(2020, 1, 1, 8, 0),\n",
      "                          datetime.datetime(2020, 1, 1, 8, 11),\n",
      "                          datetime.datetime(2020, 1, 1, 8, 22),\n",
      "                          datetime.datetime(2020, 1, 1, 8, 33),\n",
      "                          datetime.datetime(2020, 1, 1, 8, 44),\n",
      "                          datetime.datetime(2020, 1, 1, 8, 55),\n",
      "                          datetime.datetime(2020, 1, 1, 9, 0),\n",
      "                          datetime.datetime(2020, 1, 1, 9, 6),\n",
      "                          datetime.datetime(2020, 1, 1, 9, 17),\n",
      "                          datetime.datetime(2020, 1, 1, 9, 28),\n",
      "                          datetime.datetime(2020, 1, 1, 9, 39)], dtype=object),\n",
      "              'y': array([ 359.,   -8., -191.,  399.,  272.,  196.,  286.,   nan,   nan,   nan,\n",
      "                            nan,   nan, -113.,   nan,   nan,   nan,   nan,   nan,  400.,   nan,\n",
      "                            nan,   nan,   nan,   nan,  337.,   nan,   nan,   nan,   nan]),\n",
      "              'yaxis': 'y2'},\n",
      "             {'connectgaps': True,\n",
      "              'mode': 'lines+markers',\n",
      "              'name': 'c',\n",
      "              'type': 'scattergl',\n",
      "              'x': array([datetime.datetime(2020, 1, 1, 0, 0),\n",
      "                          datetime.datetime(2020, 1, 1, 1, 0),\n",
      "                          datetime.datetime(2020, 1, 1, 2, 0),\n",
      "                          datetime.datetime(2020, 1, 1, 3, 0),\n",
      "                          datetime.datetime(2020, 1, 1, 4, 0),\n",
      "                          datetime.datetime(2020, 1, 1, 5, 0),\n",
      "                          datetime.datetime(2020, 1, 1, 6, 0),\n",
      "                          datetime.datetime(2020, 1, 1, 6, 10),\n",
      "                          datetime.datetime(2020, 1, 1, 6, 21),\n",
      "                          datetime.datetime(2020, 1, 1, 6, 32),\n",
      "                          datetime.datetime(2020, 1, 1, 6, 43),\n",
      "                          datetime.datetime(2020, 1, 1, 6, 54),\n",
      "                          datetime.datetime(2020, 1, 1, 7, 0),\n",
      "                          datetime.datetime(2020, 1, 1, 7, 5),\n",
      "                          datetime.datetime(2020, 1, 1, 7, 16),\n",
      "                          datetime.datetime(2020, 1, 1, 7, 27),\n",
      "                          datetime.datetime(2020, 1, 1, 7, 38),\n",
      "                          datetime.datetime(2020, 1, 1, 7, 49),\n",
      "                          datetime.datetime(2020, 1, 1, 8, 0),\n",
      "                          datetime.datetime(2020, 1, 1, 8, 11),\n",
      "                          datetime.datetime(2020, 1, 1, 8, 22),\n",
      "                          datetime.datetime(2020, 1, 1, 8, 33),\n",
      "                          datetime.datetime(2020, 1, 1, 8, 44),\n",
      "                          datetime.datetime(2020, 1, 1, 8, 55),\n",
      "                          datetime.datetime(2020, 1, 1, 9, 0),\n",
      "                          datetime.datetime(2020, 1, 1, 9, 6),\n",
      "                          datetime.datetime(2020, 1, 1, 9, 17),\n",
      "                          datetime.datetime(2020, 1, 1, 9, 28),\n",
      "                          datetime.datetime(2020, 1, 1, 9, 39)], dtype=object),\n",
      "              'y': array([        nan,         nan,         nan,         nan,         nan,\n",
      "                                  nan,         nan, 10.44386323,         nan, 11.49407907,\n",
      "                                  nan,         nan,         nan,  9.14590426,         nan,\n",
      "                          10.6536186 , 10.8644362 ,  9.25783498, 12.26975462,  8.54563433,\n",
      "                          10.04575852,  9.81281615, 11.53277921, 11.46935877,         nan,\n",
      "                          10.15494743, 10.37816252,  9.11221425,  8.01920353]),\n",
      "              'yaxis': 'y3'}],\n",
      "    'layout': {'height': 600,\n",
      "               'template': '...',\n",
      "               'title': {'text': 'multiple y-axes example'},\n",
      "               'width': 1200,\n",
      "               'xaxis': {'domain': [0, 1]},\n",
      "               'yaxis': {'rangemode': 'tozero', 'title': {'text': 'yaxis1 title'}},\n",
      "               'yaxis2': {'anchor': 'free',\n",
      "                          'overlaying': 'y',\n",
      "                          'position': 0.9,\n",
      "                          'rangemode': 'tozero',\n",
      "                          'side': 'right',\n",
      "                          'title': {'text': 'yaxis2 title'}},\n",
      "               'yaxis3': {'anchor': 'x',\n",
      "                          'overlaying': 'y',\n",
      "                          'position': 0.95,\n",
      "                          'rangemode': 'tozero',\n",
      "                          'side': 'right',\n",
      "                          'title': {'text': 'yaxis3 title'}}}\n",
      "})\n"
     ]
    }
   ],
   "source": [
    "print(fig)\n"
   ]
  },
  {
   "cell_type": "code",
   "execution_count": 26,
   "metadata": {},
   "outputs": [
    {
     "name": "stdout",
     "output_type": "stream",
     "text": [
      "                         a      b          c\n",
      "2020-01-01 00:00:00  484.0  359.0        NaN\n",
      "2020-01-01 01:00:00  429.0   -8.0        NaN\n",
      "2020-01-01 02:00:00  159.0 -191.0        NaN\n",
      "2020-01-01 03:00:00   77.0  399.0        NaN\n",
      "2020-01-01 04:00:00 -130.0  272.0        NaN\n",
      "2020-01-01 05:00:00  400.0  196.0        NaN\n",
      "2020-01-01 06:00:00  114.0  286.0        NaN\n",
      "2020-01-01 06:10:00    NaN    NaN  10.443863\n",
      "2020-01-01 06:21:00    NaN    NaN        NaN\n",
      "2020-01-01 06:32:00    NaN    NaN  11.494079\n",
      "2020-01-01 06:43:00    NaN    NaN        NaN\n",
      "2020-01-01 06:54:00    NaN    NaN        NaN\n",
      "2020-01-01 07:00:00  351.0 -113.0        NaN\n",
      "2020-01-01 07:05:00    NaN    NaN   9.145904\n",
      "2020-01-01 07:16:00    NaN    NaN        NaN\n",
      "2020-01-01 07:27:00    NaN    NaN  10.653619\n",
      "2020-01-01 07:38:00    NaN    NaN  10.864436\n",
      "2020-01-01 07:49:00    NaN    NaN   9.257835\n",
      "2020-01-01 08:00:00  -26.0  400.0  12.269755\n",
      "2020-01-01 08:11:00    NaN    NaN   8.545634\n",
      "2020-01-01 08:22:00    NaN    NaN  10.045759\n",
      "2020-01-01 08:33:00    NaN    NaN   9.812816\n",
      "2020-01-01 08:44:00    NaN    NaN  11.532779\n",
      "2020-01-01 08:55:00    NaN    NaN  11.469359\n",
      "2020-01-01 09:00:00  477.0  337.0        NaN\n",
      "2020-01-01 09:06:00    NaN    NaN  10.154947\n",
      "2020-01-01 09:17:00    NaN    NaN  10.378163\n",
      "2020-01-01 09:28:00    NaN    NaN   9.112214\n",
      "2020-01-01 09:39:00    NaN    NaN   8.019204\n"
     ]
    }
   ],
   "source": [
    "import dash\n",
    "import dash_core_components as dcc\n",
    "import dash_html_components as html\n",
    "import plotly.graph_objects as go\n",
    "\n",
    "import pandas as pd\n",
    "import numpy as np\n",
    "np.random.seed(0)\n",
    "\n",
    "## setting up the dfs\n",
    "num_of_rows=10\n",
    "df0 = pd.DataFrame(\n",
    "        data=np.random.randint(-200, 500, (num_of_rows, 2)),\n",
    "        columns=list('ab'),\n",
    "        index=pd.date_range('2020-01-01', periods=num_of_rows, freq='1h')\n",
    "        )\n",
    "# print(df0)\n",
    "\n",
    "\n",
    "num_of_rows=20\n",
    "df1 = pd.DataFrame(\n",
    "        data=np.random.randn(num_of_rows, 1)+10,\n",
    "        columns=['c'],\n",
    "        index=pd.date_range('2020-01-01 06:10:00', periods=num_of_rows,  freq='11min'),\n",
    "        )\n",
    "df1.iloc[[1, 3, 4, 6], :] = np.nan\n",
    "# print(df1)\n",
    "\n",
    "# do we need to merge the dfs to have a common index for ploting?\n",
    "#     ==> no, as matter of fact, plotting with pd.series is probably better\n",
    "df_timeseries = pd.merge(left=df0, right=df1, left_index=True, right_index=True, how='outer')\n",
    "# df_timeseries = df_timeseries.reset_index()\n",
    "#     ==> if we are adding one subplot at a time anyways, turning index into a column is no longer necessary.\n",
    "print(df_timeseries)\n",
    "\n",
    "df_events = pd.DataFrame(\n",
    "        data=['event foo happens', 'event bar happens', 'event baz happens'],\n",
    "        columns=['events'],\n",
    "        index=pd.date_range('2020-01-01 03:00:00', periods=3, freq = '111min'),\n",
    "        )\n",
    "# print(df_events)\n",
    "\n",
    "fig = go.Figure()\n",
    "ys = [\n",
    "    'y1', 'y2', 'y3'\n",
    "]\n",
    "for i, colname in enumerate(df_timeseries):\n",
    "    catch=fig.add_trace(go.Scattergl(\n",
    "        x=df_timeseries.index,\n",
    "        y=df_timeseries[colname],\n",
    "        name=colname,\n",
    "        yaxis = ys[i],\n",
    "        mode='lines+markers', connectgaps=True, # js is tricter? connectgaps=1 doesn't work\n",
    "    ))\n",
    "\n",
    "\n",
    "# Create axis objects\n",
    "fig = fig.update_layout(\n",
    "    xaxis=dict(\n",
    "        domain=[0, 1]\n",
    "    ),\n",
    "    yaxis1=dict(\n",
    "        title=\"yaxis1 title\",\n",
    "        rangemode='tozero',\n",
    "    ),\n",
    "    yaxis2=dict(\n",
    "        title=\"yaxis2 title\",\n",
    "\n",
    "        anchor=\"free\",\n",
    "        overlaying=\"y\",\n",
    "        side=\"right\",\n",
    "        position=0.9,\n",
    "        rangemode='tozero',\n",
    "\n",
    "    ),\n",
    "    yaxis3=dict(\n",
    "        title=\"yaxis3 title\",\n",
    "\n",
    "        anchor=\"x\",\n",
    "        overlaying=\"y\",\n",
    "        side=\"right\",\n",
    "        position=0.95,\n",
    "        rangemode='tozero',\n",
    "\n",
    "    ),\n",
    "#     yaxis4=dict(\n",
    "#         title=\"yaxis4 title\",\n",
    "#         titlefont=dict(\n",
    "#             color=\"#9467bd\"\n",
    "#         ),\n",
    "#         tickfont=dict(\n",
    "#             color=\"#9467bd\"\n",
    "#         ),\n",
    "#         anchor=\"free\",\n",
    "#         overlaying=\"y\",\n",
    "#         side=\"right\",\n",
    "#         position=0.85\n",
    "#     )\n",
    ")\n",
    "\n",
    "layout = go.Layout(\n",
    "    title=\"layout adjust\",\n",
    "    plot_bgcolor=\"#FFF\",  # Sets background color to white\n",
    "    xaxis=dict(\n",
    "        title=\"time\",\n",
    "        linecolor=\"#BCCCDC\",  # Sets color of X-axis line\n",
    "        showgrid=False  # Removes X-axis grid lines\n",
    "    ),\n",
    "    yaxis=dict(\n",
    "        title=\"price\",  \n",
    "        linecolor=\"#BCCCDC\",  # Sets color of Y-axis line\n",
    "        showgrid=False,  # Removes Y-axis grid lines    \n",
    "    ),\n",
    "    title_text=\"multiple y-axes example\",\n",
    "    width=1200,\n",
    "    height=600,\n",
    ")\n",
    "\n",
    "# Update layout properties\n",
    "fig = fig.update_layout(\n",
    "    layout\n",
    ")\n",
    "\n",
    "external_stylesheets = ['https://codepen.io/chriddyp/pen/bWLwgP.css']\n",
    "app = dash.Dash(__name__, external_stylesheets=external_stylesheets)\n",
    "app.layout = html.Div(\n",
    "    children=[\n",
    "        dcc.Graph(\n",
    "            id='number + text time series plot',\n",
    "            figure=fig\n",
    "        ),\n",
    "    ]\n",
    ")\n",
    "\n",
    "# if __name__ == '__main__':\n",
    "#     app.run_server(debug=0)\n",
    "fig.show()\n"
   ]
  },
  {
   "cell_type": "code",
   "execution_count": 48,
   "metadata": {},
   "outputs": [
    {
     "data": {
      "application/vnd.plotly.v1+json": {
       "config": {
        "plotlyServerURL": "https://plot.ly"
       },
       "data": [
        {
         "legendgroup": "Acompany",
         "marker": {
          "color": "#38BEC9"
         },
         "name": "Acompany",
         "type": "scatter",
         "visible": true,
         "x": [
          0,
          1,
          2,
          3,
          4,
          5,
          6,
          7,
          8,
          9,
          10,
          11,
          12,
          13,
          14,
          15,
          16,
          17,
          18,
          19,
          20,
          21,
          22,
          23,
          24,
          25,
          26,
          27,
          28,
          29,
          30,
          31,
          32,
          33,
          34,
          35,
          36,
          37,
          38,
          39,
          40,
          41,
          42,
          43,
          44,
          45,
          46,
          47,
          48,
          49,
          50,
          51,
          52,
          53,
          54,
          55,
          56,
          57,
          58,
          59,
          60,
          61,
          62,
          63,
          64,
          65,
          66,
          67,
          68,
          69,
          70,
          71,
          72,
          73,
          74,
          75,
          76,
          77,
          78,
          79,
          80,
          81,
          82,
          83,
          84,
          85,
          86,
          87,
          88,
          89,
          90,
          91,
          92,
          93,
          94,
          95,
          96,
          97,
          98,
          99
         ],
         "y": [
          111.55447276631966,
          109.60249691834565,
          126.01461143225268,
          172.6046700338074,
          166.36316842931524,
          160.34789025432207,
          222.11345991757656,
          261.56302761698055,
          240.51450526239404,
          270.776135000145,
          249.2880040458175,
          229.39901711802895,
          243.19300185780656,
          167.53617958957446,
          119.84697959126889,
          108.17586183679062,
          89.22774457615769,
          95.97056171045878,
          80.83715350818882,
          61.557761180467764,
          83.3547581545783,
          80.47531037037449,
          82.38934125486044,
          62.58379868135761,
          56.69181775779158,
          58.5460960510469,
          46.97500703946827,
          51.14963205004648,
          45.81573361504905,
          43.653733482884064,
          39.09315893702362,
          57.19137643177289,
          57.610433035597595,
          47.09474834026191,
          56.0739007508695,
          44.3672572039067,
          46.72477164075374,
          31.89152948836297,
          24.697529823095383,
          25.947505521298257,
          30.379522961067206,
          31.754754141888082,
          31.340550256132442,
          29.805473623520996,
          22.398358103254946,
          19.58999184228042,
          18.04540463202886,
          22.518011646416337,
          24.362356253526237,
          17.29523678811551,
          18.638846556107577,
          17.430673014757694,
          15.37660304214303,
          17.552253196385482,
          21.78849838238851,
          26.51308162066303,
          22.641732009772504,
          21.49783596843837,
          23.20122232525389,
          28.483187164326147,
          26.14032501049731,
          25.44062602933242,
          20.595659535596027,
          16.37636319527979,
          19.459671407909106,
          25.779824678679407,
          25.666590675849122,
          31.686691051487514,
          34.405758791151094,
          30.544969457005728,
          33.16447016984517,
          45.5625651905479,
          45.69190883852327,
          63.108152690456144,
          37.74680902882985,
          44.937895832742015,
          46.18665287816117,
          43.94282633619902,
          45.20652988206295,
          30.68358312399416,
          29.659823393726885,
          32.175841166966194,
          43.675823262470715,
          39.77110572914309,
          34.17320786695916,
          31.220987115411436,
          37.870443621649095,
          40.850586479501274,
          37.11306772401548,
          41.53857958590121,
          42.77860668625683,
          52.4451117361934,
          46.032907132427326,
          43.546271432930894,
          40.66641035218993,
          30.652047525831062,
          32.84907279181588,
          34.95755367797753,
          35.345011492722925,
          34.06395673721769
         ]
        },
        {
         "legendgroup": "Acompany",
         "marker": {
          "color": "#38BEC9"
         },
         "name": "Acompany",
         "showlegend": true,
         "type": "histogram",
         "visible": true,
         "x": [
          0.10934283060224653,
          -0.017652860234236935,
          0.1395377076201385,
          0.3146059712816051,
          -0.03683067494466719,
          -0.03682739138983611,
          0.3258425631014783,
          0.16348694583058176,
          -0.08389487718699043,
          0.11851200871719293,
          -0.08268353856249246,
          -0.08314595071405138,
          0.058392454313206825,
          -0.37265604893155957,
          -0.3349835665026066,
          -0.10245750584819455,
          -0.19256622406688476,
          0.07284946651905477,
          -0.1716048151042422,
          -0.2724607402670583,
          0.30312975378431084,
          -0.035155260097307135,
          0.023505640937584768,
          -0.27494963724269134,
          -0.09887654490503654,
          0.03218451794197322,
          -0.22019871548446057,
          0.0851396036691344,
          -0.110127737983761,
          -0.04833874995865536,
          -0.1103413224458794,
          0.3804556369017876,
          0.007300555052413216,
          -0.20154218579118008,
          0.17450898242063784,
          -0.23416872999420446,
          0.05177271900095109,
          -0.3819340247759551,
          -0.2556372097796861,
          0.049372247173824706,
          0.1576933159990821,
          0.044273656237994105,
          -0.013129656477648107,
          -0.05022073911785776,
          -0.28570439807348547,
          -0.1339688416789417,
          -0.08212775419195752,
          0.22142444524378316,
          0.07872365791369228,
          -0.3426080310725468,
          0.074816793878959,
          -0.06701645608326331,
          -0.12538440006119175,
          0.1323352577681736,
          0.21619990449919022,
          0.19625602382323973,
          -0.1578435046445277,
          -0.051842475170242916,
          0.07625268628071279,
          0.20510902542447185,
          -0.085834847569058,
          -0.02713179533276342,
          -0.21126699480120564,
          -0.22924132481613416,
          0.17250516447883962,
          0.2812480057141646,
          -0.004402024316066769,
          0.21070657957840486,
          0.08232720500952682,
          -0.11902395092102487,
          0.08227912110168278,
          0.31760731329319386,
          0.002834792178009692,
          0.3229287311628013,
          -0.5139490208179489,
          0.17438050087504478,
          0.027409413647634245,
          -0.04980147009317349,
          0.02835215530710046,
          -0.3875137829201786,
          -0.03393437756750239,
          0.08142251430234929,
          0.30557880894830325,
          -0.09365404365472949,
          -0.15169872057863754,
          -0.09035140871690732,
          0.19308042354041485,
          0.0757502219319369,
          -0.09595204075340777,
          0.11265348662267122,
          0.02941550986960808,
          0.20372899810657785,
          -0.13041061877547047,
          -0.05553242931955365,
          -0.06842163062643154,
          -0.2827029896264237,
          0.06922405541291521,
          0.062211054435977874,
          0.011022691328492179,
          -0.03691742667502938
         ],
         "xaxis": "x2",
         "yaxis": "y2"
        },
        {
         "legendgroup": "Bcompany",
         "marker": {
          "color": "#D64545"
         },
         "name": "Bcompany",
         "type": "scatter",
         "x": [
          0,
          1,
          2,
          3,
          4,
          5,
          6,
          7,
          8,
          9,
          10,
          11,
          12,
          13,
          14,
          15,
          16,
          17,
          18,
          19,
          20,
          21,
          22,
          23,
          24,
          25,
          26,
          27,
          28,
          29,
          30,
          31,
          32,
          33,
          34,
          35,
          36,
          37,
          38,
          39,
          40,
          41,
          42,
          43,
          44,
          45,
          46,
          47,
          48,
          49,
          50,
          51,
          52,
          53,
          54,
          55,
          56,
          57,
          58,
          59,
          60,
          61,
          62,
          63,
          64,
          65,
          66,
          67,
          68,
          69,
          70,
          71,
          72,
          73,
          74,
          75,
          76,
          77,
          78,
          79,
          80,
          81,
          82,
          83,
          84,
          85,
          86,
          87,
          88,
          89,
          90,
          91,
          92,
          93,
          94,
          95,
          96,
          97,
          98,
          99
         ],
         "y": [
          76.10363559009934,
          70.66617108455748,
          66.64793542125005,
          57.338288737320894,
          56.07619963292105,
          61.406865502572614,
          90.44652799014652,
          94.6015998561484,
          100.60324019633083,
          100.11257298754104,
          68.8920674226665,
          69.21643016385775,
          70.75932334316757,
          116.97178232965477,
          113.6883048882715,
          121.96937694171837,
          122.34288686600942,
          97.81637955068572,
          124.17062228698504,
          145.77192059659208,
          172.47453492225657,
          145.2377581550859,
          194.2082376155187,
          148.199710675752,
          168.33098320725125,
          263.4920783987701,
          218.3099931174507,
          196.89222416593927,
          202.87433878333601,
          185.28434327159178,
          137.24380593355775,
          140.53710473131036,
          114.77925956772854,
          127.45065727179725,
          107.10872510733789,
          147.50046407717895,
          127.38075391992116,
          120.63486761221876,
          143.37617974839182,
          113.21616325785284,
          119.67633943186414,
          156.99586671048655,
          114.97593336839216,
          120.49998194674694,
          128.20443803701983,
          151.40990117412522,
          119.41449522574763,
          92.62038626985174,
          103.84481119429427,
          111.30726378769458,
          118.20177116829089,
          127.95552354883775,
          112.80693153413908,
          119.35813679580963,
          127.83533891338168,
          111.92989495735095,
          164.19054935412814,
          182.32562263627258,
          145.11601477470174,
          167.1420828377239,
          138.92134533691274,
          164.23935291592414,
          209.14837925006572,
          179.27258790632433,
          219.55059581696995,
          240.84146517989117,
          286.7328448888621,
          423.22735830415184,
          407.007617519016,
          353.5711254588074,
          298.9217348385771,
          256.47205870178647,
          255.0856532503926,
          275.84242501550597,
          294.46729334920036,
          350.93625191463616,
          355.3861578480819,
          480.0603294227434,
          459.8868199644274,
          800.3220818611469,
          916.1203280298075,
          779.5495144332475,
          635.5798346175627,
          707.001078021255,
          682.8939888987287,
          795.6343590870193,
          883.4080903763332,
          879.3838350774145,
          749.8421601141548,
          559.415946201637,
          516.7660697736407,
          619.4735811468931,
          653.0729273667488,
          514.1633660805848,
          537.6335708134596,
          586.5399072992137,
          496.443272251888,
          517.0886050314011,
          528.40127550869,
          424.6485675562842
         ]
        },
        {
         "legendgroup": "Bcompany",
         "marker": {
          "color": "#D64545"
         },
         "name": "Bcompany",
         "showlegend": true,
         "type": "histogram",
         "x": [
          -0.2730741484100829,
          -0.07412906455307182,
          -0.058542903305353895,
          -0.1504554538443238,
          -0.022257142333201828,
          0.09081017136290769,
          0.38723718024210607,
          0.04491556256636779,
          0.06151007814455288,
          -0.004889183153233443,
          -0.3737542430598083,
          0.004697224910156624,
          0.02204604198820529,
          0.5026484224970572,
          -0.028472192956224503,
          0.0703094684667225,
          0.0030576460589513375,
          -0.22373560752390642,
          0.23856456290300412,
          0.16038660653735484,
          0.1682063894086094,
          -0.17187749095894778,
          0.2905588621872199,
          -0.27037021255845617,
          0.12737141876005406,
          0.44809112516199573,
          -0.18810726502613767,
          -0.10325954592055439,
          0.029930273017528243,
          -0.09069513082323985,
          -0.30013268621322653,
          0.023712594961205466,
          -0.20246074274522097,
          0.10471848612703631,
          -0.17388484684676064,
          0.3199868810035079,
          -0.14665065846724742,
          -0.054412303241135114,
          0.17270344347393396,
          -0.23617286328679105,
          0.05549198692082589,
          0.27142855085648565,
          -0.31149664691224555,
          0.04692677170646085,
          0.06197655884968471,
          0.1663645743554621,
          -0.23739014217561638,
          -0.25409132261685524,
          0.11438831312337953,
          0.06939693464663721,
          0.060098570069175315,
          0.07928964189939514,
          -0.12600494431569817,
          0.05645073943220071,
          0.06861449465973625,
          -0.13287028360527356,
          0.3831549022289513,
          0.1047665841823575,
          -0.22826069944052974,
          0.14131072172676595,
          -0.18493633404546428,
          0.16741692074849043,
          0.24171911580148084,
          -0.1541364636703421,
          0.20267522584886438,
          0.09255618538729966,
          0.17441203199889802,
          0.3893585965307895,
          -0.0390776232005741,
          -0.14074723287149793,
          -0.16790288592510466,
          -0.15316205699308766,
          -0.005420341882820841,
          0.07823039496332877,
          0.06533815986600382,
          0.17543664980720478,
          0.012600378375581405,
          0.3007068154314634,
          -0.042931366647591215,
          0.5540338333179238,
          0.13513346955300126,
          -0.1614315112832565,
          -0.20417849961222245,
          0.10649448304863705,
          -0.03469255706517018,
          0.1528000988184184,
          0.10464752491470897,
          -0.004565782531374555,
          -0.159358743613681,
          -0.2929694449371729,
          -0.07930299041340423,
          0.1812797588646945,
          0.0528187488260408,
          -0.2391477557423976,
          0.0446361851702364,
          0.08706347594576735,
          -0.1667714872402266,
          0.040745021189105585,
          0.02164174368919998,
          -0.21859405956612463
         ],
         "xaxis": "x2",
         "yaxis": "y2"
        }
       ],
       "layout": {
        "autosize": true,
        "barmode": "stack",
        "plot_bgcolor": "#FFFFFF",
        "template": {
         "data": {
          "bar": [
           {
            "error_x": {
             "color": "#2a3f5f"
            },
            "error_y": {
             "color": "#2a3f5f"
            },
            "marker": {
             "line": {
              "color": "#E5ECF6",
              "width": 0.5
             }
            },
            "type": "bar"
           }
          ],
          "barpolar": [
           {
            "marker": {
             "line": {
              "color": "#E5ECF6",
              "width": 0.5
             }
            },
            "type": "barpolar"
           }
          ],
          "carpet": [
           {
            "aaxis": {
             "endlinecolor": "#2a3f5f",
             "gridcolor": "white",
             "linecolor": "white",
             "minorgridcolor": "white",
             "startlinecolor": "#2a3f5f"
            },
            "baxis": {
             "endlinecolor": "#2a3f5f",
             "gridcolor": "white",
             "linecolor": "white",
             "minorgridcolor": "white",
             "startlinecolor": "#2a3f5f"
            },
            "type": "carpet"
           }
          ],
          "choropleth": [
           {
            "colorbar": {
             "outlinewidth": 0,
             "ticks": ""
            },
            "type": "choropleth"
           }
          ],
          "contour": [
           {
            "colorbar": {
             "outlinewidth": 0,
             "ticks": ""
            },
            "colorscale": [
             [
              0,
              "#0d0887"
             ],
             [
              0.1111111111111111,
              "#46039f"
             ],
             [
              0.2222222222222222,
              "#7201a8"
             ],
             [
              0.3333333333333333,
              "#9c179e"
             ],
             [
              0.4444444444444444,
              "#bd3786"
             ],
             [
              0.5555555555555556,
              "#d8576b"
             ],
             [
              0.6666666666666666,
              "#ed7953"
             ],
             [
              0.7777777777777778,
              "#fb9f3a"
             ],
             [
              0.8888888888888888,
              "#fdca26"
             ],
             [
              1,
              "#f0f921"
             ]
            ],
            "type": "contour"
           }
          ],
          "contourcarpet": [
           {
            "colorbar": {
             "outlinewidth": 0,
             "ticks": ""
            },
            "type": "contourcarpet"
           }
          ],
          "heatmap": [
           {
            "colorbar": {
             "outlinewidth": 0,
             "ticks": ""
            },
            "colorscale": [
             [
              0,
              "#0d0887"
             ],
             [
              0.1111111111111111,
              "#46039f"
             ],
             [
              0.2222222222222222,
              "#7201a8"
             ],
             [
              0.3333333333333333,
              "#9c179e"
             ],
             [
              0.4444444444444444,
              "#bd3786"
             ],
             [
              0.5555555555555556,
              "#d8576b"
             ],
             [
              0.6666666666666666,
              "#ed7953"
             ],
             [
              0.7777777777777778,
              "#fb9f3a"
             ],
             [
              0.8888888888888888,
              "#fdca26"
             ],
             [
              1,
              "#f0f921"
             ]
            ],
            "type": "heatmap"
           }
          ],
          "heatmapgl": [
           {
            "colorbar": {
             "outlinewidth": 0,
             "ticks": ""
            },
            "colorscale": [
             [
              0,
              "#0d0887"
             ],
             [
              0.1111111111111111,
              "#46039f"
             ],
             [
              0.2222222222222222,
              "#7201a8"
             ],
             [
              0.3333333333333333,
              "#9c179e"
             ],
             [
              0.4444444444444444,
              "#bd3786"
             ],
             [
              0.5555555555555556,
              "#d8576b"
             ],
             [
              0.6666666666666666,
              "#ed7953"
             ],
             [
              0.7777777777777778,
              "#fb9f3a"
             ],
             [
              0.8888888888888888,
              "#fdca26"
             ],
             [
              1,
              "#f0f921"
             ]
            ],
            "type": "heatmapgl"
           }
          ],
          "histogram": [
           {
            "marker": {
             "colorbar": {
              "outlinewidth": 0,
              "ticks": ""
             }
            },
            "type": "histogram"
           }
          ],
          "histogram2d": [
           {
            "colorbar": {
             "outlinewidth": 0,
             "ticks": ""
            },
            "colorscale": [
             [
              0,
              "#0d0887"
             ],
             [
              0.1111111111111111,
              "#46039f"
             ],
             [
              0.2222222222222222,
              "#7201a8"
             ],
             [
              0.3333333333333333,
              "#9c179e"
             ],
             [
              0.4444444444444444,
              "#bd3786"
             ],
             [
              0.5555555555555556,
              "#d8576b"
             ],
             [
              0.6666666666666666,
              "#ed7953"
             ],
             [
              0.7777777777777778,
              "#fb9f3a"
             ],
             [
              0.8888888888888888,
              "#fdca26"
             ],
             [
              1,
              "#f0f921"
             ]
            ],
            "type": "histogram2d"
           }
          ],
          "histogram2dcontour": [
           {
            "colorbar": {
             "outlinewidth": 0,
             "ticks": ""
            },
            "colorscale": [
             [
              0,
              "#0d0887"
             ],
             [
              0.1111111111111111,
              "#46039f"
             ],
             [
              0.2222222222222222,
              "#7201a8"
             ],
             [
              0.3333333333333333,
              "#9c179e"
             ],
             [
              0.4444444444444444,
              "#bd3786"
             ],
             [
              0.5555555555555556,
              "#d8576b"
             ],
             [
              0.6666666666666666,
              "#ed7953"
             ],
             [
              0.7777777777777778,
              "#fb9f3a"
             ],
             [
              0.8888888888888888,
              "#fdca26"
             ],
             [
              1,
              "#f0f921"
             ]
            ],
            "type": "histogram2dcontour"
           }
          ],
          "mesh3d": [
           {
            "colorbar": {
             "outlinewidth": 0,
             "ticks": ""
            },
            "type": "mesh3d"
           }
          ],
          "parcoords": [
           {
            "line": {
             "colorbar": {
              "outlinewidth": 0,
              "ticks": ""
             }
            },
            "type": "parcoords"
           }
          ],
          "pie": [
           {
            "automargin": true,
            "type": "pie"
           }
          ],
          "scatter": [
           {
            "marker": {
             "colorbar": {
              "outlinewidth": 0,
              "ticks": ""
             }
            },
            "type": "scatter"
           }
          ],
          "scatter3d": [
           {
            "line": {
             "colorbar": {
              "outlinewidth": 0,
              "ticks": ""
             }
            },
            "marker": {
             "colorbar": {
              "outlinewidth": 0,
              "ticks": ""
             }
            },
            "type": "scatter3d"
           }
          ],
          "scattercarpet": [
           {
            "marker": {
             "colorbar": {
              "outlinewidth": 0,
              "ticks": ""
             }
            },
            "type": "scattercarpet"
           }
          ],
          "scattergeo": [
           {
            "marker": {
             "colorbar": {
              "outlinewidth": 0,
              "ticks": ""
             }
            },
            "type": "scattergeo"
           }
          ],
          "scattergl": [
           {
            "marker": {
             "colorbar": {
              "outlinewidth": 0,
              "ticks": ""
             }
            },
            "type": "scattergl"
           }
          ],
          "scattermapbox": [
           {
            "marker": {
             "colorbar": {
              "outlinewidth": 0,
              "ticks": ""
             }
            },
            "type": "scattermapbox"
           }
          ],
          "scatterpolar": [
           {
            "marker": {
             "colorbar": {
              "outlinewidth": 0,
              "ticks": ""
             }
            },
            "type": "scatterpolar"
           }
          ],
          "scatterpolargl": [
           {
            "marker": {
             "colorbar": {
              "outlinewidth": 0,
              "ticks": ""
             }
            },
            "type": "scatterpolargl"
           }
          ],
          "scatterternary": [
           {
            "marker": {
             "colorbar": {
              "outlinewidth": 0,
              "ticks": ""
             }
            },
            "type": "scatterternary"
           }
          ],
          "surface": [
           {
            "colorbar": {
             "outlinewidth": 0,
             "ticks": ""
            },
            "colorscale": [
             [
              0,
              "#0d0887"
             ],
             [
              0.1111111111111111,
              "#46039f"
             ],
             [
              0.2222222222222222,
              "#7201a8"
             ],
             [
              0.3333333333333333,
              "#9c179e"
             ],
             [
              0.4444444444444444,
              "#bd3786"
             ],
             [
              0.5555555555555556,
              "#d8576b"
             ],
             [
              0.6666666666666666,
              "#ed7953"
             ],
             [
              0.7777777777777778,
              "#fb9f3a"
             ],
             [
              0.8888888888888888,
              "#fdca26"
             ],
             [
              1,
              "#f0f921"
             ]
            ],
            "type": "surface"
           }
          ],
          "table": [
           {
            "cells": {
             "fill": {
              "color": "#EBF0F8"
             },
             "line": {
              "color": "white"
             }
            },
            "header": {
             "fill": {
              "color": "#C8D4E3"
             },
             "line": {
              "color": "white"
             }
            },
            "type": "table"
           }
          ]
         },
         "layout": {
          "annotationdefaults": {
           "arrowcolor": "#2a3f5f",
           "arrowhead": 0,
           "arrowwidth": 1
          },
          "coloraxis": {
           "colorbar": {
            "outlinewidth": 0,
            "ticks": ""
           }
          },
          "colorscale": {
           "diverging": [
            [
             0,
             "#8e0152"
            ],
            [
             0.1,
             "#c51b7d"
            ],
            [
             0.2,
             "#de77ae"
            ],
            [
             0.3,
             "#f1b6da"
            ],
            [
             0.4,
             "#fde0ef"
            ],
            [
             0.5,
             "#f7f7f7"
            ],
            [
             0.6,
             "#e6f5d0"
            ],
            [
             0.7,
             "#b8e186"
            ],
            [
             0.8,
             "#7fbc41"
            ],
            [
             0.9,
             "#4d9221"
            ],
            [
             1,
             "#276419"
            ]
           ],
           "sequential": [
            [
             0,
             "#0d0887"
            ],
            [
             0.1111111111111111,
             "#46039f"
            ],
            [
             0.2222222222222222,
             "#7201a8"
            ],
            [
             0.3333333333333333,
             "#9c179e"
            ],
            [
             0.4444444444444444,
             "#bd3786"
            ],
            [
             0.5555555555555556,
             "#d8576b"
            ],
            [
             0.6666666666666666,
             "#ed7953"
            ],
            [
             0.7777777777777778,
             "#fb9f3a"
            ],
            [
             0.8888888888888888,
             "#fdca26"
            ],
            [
             1,
             "#f0f921"
            ]
           ],
           "sequentialminus": [
            [
             0,
             "#0d0887"
            ],
            [
             0.1111111111111111,
             "#46039f"
            ],
            [
             0.2222222222222222,
             "#7201a8"
            ],
            [
             0.3333333333333333,
             "#9c179e"
            ],
            [
             0.4444444444444444,
             "#bd3786"
            ],
            [
             0.5555555555555556,
             "#d8576b"
            ],
            [
             0.6666666666666666,
             "#ed7953"
            ],
            [
             0.7777777777777778,
             "#fb9f3a"
            ],
            [
             0.8888888888888888,
             "#fdca26"
            ],
            [
             1,
             "#f0f921"
            ]
           ]
          },
          "colorway": [
           "#636efa",
           "#EF553B",
           "#00cc96",
           "#ab63fa",
           "#FFA15A",
           "#19d3f3",
           "#FF6692",
           "#B6E880",
           "#FF97FF",
           "#FECB52"
          ],
          "font": {
           "color": "#2a3f5f"
          },
          "geo": {
           "bgcolor": "white",
           "lakecolor": "white",
           "landcolor": "#E5ECF6",
           "showlakes": true,
           "showland": true,
           "subunitcolor": "white"
          },
          "hoverlabel": {
           "align": "left"
          },
          "hovermode": "closest",
          "mapbox": {
           "style": "light"
          },
          "paper_bgcolor": "white",
          "plot_bgcolor": "#E5ECF6",
          "polar": {
           "angularaxis": {
            "gridcolor": "white",
            "linecolor": "white",
            "ticks": ""
           },
           "bgcolor": "#E5ECF6",
           "radialaxis": {
            "gridcolor": "white",
            "linecolor": "white",
            "ticks": ""
           }
          },
          "scene": {
           "xaxis": {
            "backgroundcolor": "#E5ECF6",
            "gridcolor": "white",
            "gridwidth": 2,
            "linecolor": "white",
            "showbackground": true,
            "ticks": "",
            "zerolinecolor": "white"
           },
           "yaxis": {
            "backgroundcolor": "#E5ECF6",
            "gridcolor": "white",
            "gridwidth": 2,
            "linecolor": "white",
            "showbackground": true,
            "ticks": "",
            "zerolinecolor": "white"
           },
           "zaxis": {
            "backgroundcolor": "#E5ECF6",
            "gridcolor": "white",
            "gridwidth": 2,
            "linecolor": "white",
            "showbackground": true,
            "ticks": "",
            "zerolinecolor": "white"
           }
          },
          "shapedefaults": {
           "line": {
            "color": "#2a3f5f"
           }
          },
          "ternary": {
           "aaxis": {
            "gridcolor": "white",
            "linecolor": "white",
            "ticks": ""
           },
           "baxis": {
            "gridcolor": "white",
            "linecolor": "white",
            "ticks": ""
           },
           "bgcolor": "#E5ECF6",
           "caxis": {
            "gridcolor": "white",
            "linecolor": "white",
            "ticks": ""
           }
          },
          "title": {
           "x": 0.05
          },
          "xaxis": {
           "automargin": true,
           "gridcolor": "white",
           "linecolor": "white",
           "ticks": "",
           "title": {
            "standoff": 15
           },
           "zerolinecolor": "white",
           "zerolinewidth": 2
          },
          "yaxis": {
           "automargin": true,
           "gridcolor": "white",
           "linecolor": "white",
           "ticks": "",
           "title": {
            "standoff": 15
           },
           "zerolinecolor": "white",
           "zerolinewidth": 2
          }
         }
        },
        "xaxis": {
         "autorange": true,
         "domain": [
          0,
          0.5
         ],
         "linecolor": "#BCCCDC",
         "range": [
          0,
          99
         ],
         "showspikes": false,
         "title": {
          "text": "time"
         },
         "type": "linear"
        },
        "xaxis2": {
         "autorange": true,
         "domain": [
          0.6,
          1
         ],
         "linecolor": "#BCCCDC",
         "range": [
          -0.55,
          0.5999999999999999
         ],
         "showspikes": false,
         "title": {
          "text": "returns"
         },
         "type": "linear"
        },
        "yaxis": {
         "autorange": true,
         "linecolor": "#BCCCDC",
         "range": [
          -34.664715012727214,
          966.1616460846777
         ],
         "showspikes": false,
         "title": {
          "text": "price"
         },
         "type": "linear"
        },
        "yaxis2": {
         "anchor": "x2",
         "autorange": true,
         "linecolor": "#BCCCDC",
         "range": [
          0,
          29.473684210526315
         ],
         "showspikes": false
        }
       }
      },
      "image/png": "[encoded data removed]"
     },
     "metadata": {},
     "output_type": "display_data"
    }
   ],
   "source": [
    "ADD=\\\n",
    "\"\"\"\n",
    "the usage of COLOR_MAPPER to maintain color consistancy\n",
    "\"\"\"\n",
    "import plotly.graph_objects as go\n",
    "import numpy as np\n",
    "np.random.seed(42)\n",
    "\n",
    "# Simulate data\n",
    "returns_A = np.random.normal(0.01, 0.2, 100)\n",
    "returns_B = np.random.normal(0.01, 0.2, 100)\n",
    "returns = np.append(returns_A, returns_B)\n",
    "\n",
    "prices_A = 100 * np.exp(returns_A.cumsum())\n",
    "prices_B = 100 * np.exp(returns_B.cumsum())\n",
    "prices = np.append(prices_A, prices_B)\n",
    "\n",
    "companies = [\"Acompany\"] * 100 + [\"Bcompany\"] * 100\n",
    "time = np.append(np.arange(100), np.arange(100))\n",
    "\n",
    "df = pd.DataFrame({\n",
    "    \"company\": companies,\n",
    "    \"time\": time,\n",
    "    \"price\": prices,\n",
    "    \"returns\": returns\n",
    "})\n",
    "\n",
    "# for my own code, I will need a style mapper.\n",
    "COLORS_MAPPER = {\n",
    "    \"Acompany\": \"#38BEC9\",\n",
    "    \"Bcompany\": \"#D64545\"\n",
    "}\n",
    "\n",
    "layout = go.Layout(\n",
    "    plot_bgcolor=\"#FFFFFF\",\n",
    "    barmode=\"stack\",\n",
    "    xaxis=dict(\n",
    "        domain=[0, 0.5],\n",
    "        title=\"time\",\n",
    "        linecolor=\"#BCCCDC\",\n",
    "    ),\n",
    "    yaxis=dict(\n",
    "        title=\"price\",\n",
    "        linecolor=\"#BCCCDC\",\n",
    "        # range=[-1, 500],\n",
    "    ),\n",
    "    xaxis2=dict(\n",
    "        domain=[0.6, 1],\n",
    "        title=\"returns\",\n",
    "        linecolor=\"#BCCCDC\",\n",
    "        # range=[-1, 500],\n",
    "    ),\n",
    "    yaxis2=dict(\n",
    "        anchor=\"x2\",\n",
    "        linecolor=\"#BCCCDC\"\n",
    "    )\n",
    ")\n",
    "\n",
    "data = []\n",
    "for company,color in COLORS_MAPPER.items():\n",
    "    time = df.loc[df.company == company, \"time\"]\n",
    "    price = df.loc[df.company == company, \"price\"]\n",
    "    returns = df.loc[df.company == company, \"returns\"]\n",
    "    line_chart = go.Scatter(\n",
    "        x=time,\n",
    "        y=price,\n",
    "        marker_color=color,  # Defines specific color for a trace\n",
    "        legendgroup=company,  # Groups traces belonging to the same group in the legend \n",
    "        name=company\n",
    "    )\n",
    "    histogram = go.Histogram(\n",
    "        x=returns,\n",
    "        marker_color=color,  # Defines specific color for a trace\n",
    "        legendgroup=company,  # Groups traces belonging to the same group in the legend \n",
    "        xaxis=\"x2\", \n",
    "        yaxis=\"y2\",\n",
    "        showlegend=True, # not desired, usually FALSE. so that only \"line\" is shown in legned\n",
    "        name=company,\n",
    "    )\n",
    "    data.append(line_chart)\n",
    "    data.append(histogram)\n",
    "\n",
    "fig = go.Figure(data=data, layout=layout)\n",
    "fig.show()"
   ]
  },
  {
   "cell_type": "code",
   "execution_count": 55,
   "metadata": {},
   "outputs": [
    {
     "data": {
      "application/vnd.plotly.v1+json": {
       "config": {
        "plotlyServerURL": "https://plot.ly"
       },
       "data": [
        {
         "name": "A",
         "type": "scatter",
         "x": [
          0,
          1,
          2,
          3,
          4,
          5,
          6,
          7,
          8,
          9,
          10,
          11,
          12,
          13,
          14,
          15,
          16,
          17,
          18,
          19,
          20,
          21,
          22,
          23,
          24,
          25,
          26,
          27,
          28,
          29,
          30,
          31,
          32,
          33,
          34,
          35,
          36,
          37,
          38,
          39,
          40,
          41,
          42,
          43,
          44,
          45,
          46,
          47,
          48,
          49,
          50,
          51,
          52,
          53,
          54,
          55,
          56,
          57,
          58,
          59,
          60,
          61,
          62,
          63,
          64,
          65,
          66,
          67,
          68,
          69,
          70,
          71,
          72,
          73,
          74,
          75,
          76,
          77,
          78,
          79,
          80,
          81,
          82,
          83,
          84,
          85,
          86,
          87,
          88,
          89,
          90,
          91,
          92,
          93,
          94,
          95,
          96,
          97,
          98,
          99
         ],
         "y": [
          111.55447276631966,
          109.60249691834565,
          126.01461143225268,
          172.6046700338074,
          166.36316842931524,
          160.34789025432207,
          222.11345991757656,
          261.56302761698055,
          240.51450526239404,
          270.776135000145,
          249.2880040458175,
          229.39901711802895,
          243.19300185780656,
          167.53617958957446,
          119.84697959126889,
          108.17586183679062,
          89.22774457615769,
          95.97056171045878,
          80.83715350818882,
          61.557761180467764,
          83.3547581545783,
          80.47531037037449,
          82.38934125486044,
          62.58379868135761,
          56.69181775779158,
          58.5460960510469,
          46.97500703946827,
          51.14963205004648,
          45.81573361504905,
          43.653733482884064,
          39.09315893702362,
          57.19137643177289,
          57.610433035597595,
          47.09474834026191,
          56.0739007508695,
          44.3672572039067,
          46.72477164075374,
          31.89152948836297,
          24.697529823095383,
          25.947505521298257,
          30.379522961067206,
          31.754754141888082,
          31.340550256132442,
          29.805473623520996,
          22.398358103254946,
          19.58999184228042,
          18.04540463202886,
          22.518011646416337,
          24.362356253526237,
          17.29523678811551,
          18.638846556107577,
          17.430673014757694,
          15.37660304214303,
          17.552253196385482,
          21.78849838238851,
          26.51308162066303,
          22.641732009772504,
          21.49783596843837,
          23.20122232525389,
          28.483187164326147,
          26.14032501049731,
          25.44062602933242,
          20.595659535596027,
          16.37636319527979,
          19.459671407909106,
          25.779824678679407,
          25.666590675849122,
          31.686691051487514,
          34.405758791151094,
          30.544969457005728,
          33.16447016984517,
          45.5625651905479,
          45.69190883852327,
          63.108152690456144,
          37.74680902882985,
          44.937895832742015,
          46.18665287816117,
          43.94282633619902,
          45.20652988206295,
          30.68358312399416,
          29.659823393726885,
          32.175841166966194,
          43.675823262470715,
          39.77110572914309,
          34.17320786695916,
          31.220987115411436,
          37.870443621649095,
          40.850586479501274,
          37.11306772401548,
          41.53857958590121,
          42.77860668625683,
          52.4451117361934,
          46.032907132427326,
          43.546271432930894,
          40.66641035218993,
          30.652047525831062,
          32.84907279181588,
          34.95755367797753,
          35.345011492722925,
          34.06395673721769
         ]
        },
        {
         "name": "B",
         "type": "scatter",
         "x": [
          0,
          1,
          2,
          3,
          4,
          5,
          6,
          7,
          8,
          9,
          10,
          11,
          12,
          13,
          14,
          15,
          16,
          17,
          18,
          19,
          20,
          21,
          22,
          23,
          24,
          25,
          26,
          27,
          28,
          29,
          30,
          31,
          32,
          33,
          34,
          35,
          36,
          37,
          38,
          39,
          40,
          41,
          42,
          43,
          44,
          45,
          46,
          47,
          48,
          49,
          50,
          51,
          52,
          53,
          54,
          55,
          56,
          57,
          58,
          59,
          60,
          61,
          62,
          63,
          64,
          65,
          66,
          67,
          68,
          69,
          70,
          71,
          72,
          73,
          74,
          75,
          76,
          77,
          78,
          79,
          80,
          81,
          82,
          83,
          84,
          85,
          86,
          87,
          88,
          89,
          90,
          91,
          92,
          93,
          94,
          95,
          96,
          97,
          98,
          99
         ],
         "y": [
          76.10363559009934,
          70.66617108455748,
          66.64793542125005,
          57.338288737320894,
          56.07619963292105,
          61.406865502572614,
          90.44652799014652,
          94.6015998561484,
          100.60324019633083,
          100.11257298754104,
          68.8920674226665,
          69.21643016385775,
          70.75932334316757,
          116.97178232965477,
          113.6883048882715,
          121.96937694171837,
          122.34288686600942,
          97.81637955068572,
          124.17062228698504,
          145.77192059659208,
          172.47453492225657,
          145.2377581550859,
          194.2082376155187,
          148.199710675752,
          168.33098320725125,
          263.4920783987701,
          218.3099931174507,
          196.89222416593927,
          202.87433878333601,
          185.28434327159178,
          137.24380593355775,
          140.53710473131036,
          114.77925956772854,
          127.45065727179725,
          107.10872510733789,
          147.50046407717895,
          127.38075391992116,
          120.63486761221876,
          143.37617974839182,
          113.21616325785284,
          119.67633943186414,
          156.99586671048655,
          114.97593336839216,
          120.49998194674694,
          128.20443803701983,
          151.40990117412522,
          119.41449522574763,
          92.62038626985174,
          103.84481119429427,
          111.30726378769458,
          118.20177116829089,
          127.95552354883775,
          112.80693153413908,
          119.35813679580963,
          127.83533891338168,
          111.92989495735095,
          164.19054935412814,
          182.32562263627258,
          145.11601477470174,
          167.1420828377239,
          138.92134533691274,
          164.23935291592414,
          209.14837925006572,
          179.27258790632433,
          219.55059581696995,
          240.84146517989117,
          286.7328448888621,
          423.22735830415184,
          407.007617519016,
          353.5711254588074,
          298.9217348385771,
          256.47205870178647,
          255.0856532503926,
          275.84242501550597,
          294.46729334920036,
          350.93625191463616,
          355.3861578480819,
          480.0603294227434,
          459.8868199644274,
          800.3220818611469,
          916.1203280298075,
          779.5495144332475,
          635.5798346175627,
          707.001078021255,
          682.8939888987287,
          795.6343590870193,
          883.4080903763332,
          879.3838350774145,
          749.8421601141548,
          559.415946201637,
          516.7660697736407,
          619.4735811468931,
          653.0729273667488,
          514.1633660805848,
          537.6335708134596,
          586.5399072992137,
          496.443272251888,
          517.0886050314011,
          528.40127550869,
          424.6485675562842
         ]
        }
       ],
       "layout": {
        "autosize": true,
        "dragmode": "zoom",
        "hoverdistance": 100,
        "hovermode": "x",
        "plot_bgcolor": "#FFFFFF",
        "spikedistance": 1000,
        "template": {
         "data": {
          "bar": [
           {
            "error_x": {
             "color": "#2a3f5f"
            },
            "error_y": {
             "color": "#2a3f5f"
            },
            "marker": {
             "line": {
              "color": "#E5ECF6",
              "width": 0.5
             }
            },
            "type": "bar"
           }
          ],
          "barpolar": [
           {
            "marker": {
             "line": {
              "color": "#E5ECF6",
              "width": 0.5
             }
            },
            "type": "barpolar"
           }
          ],
          "carpet": [
           {
            "aaxis": {
             "endlinecolor": "#2a3f5f",
             "gridcolor": "white",
             "linecolor": "white",
             "minorgridcolor": "white",
             "startlinecolor": "#2a3f5f"
            },
            "baxis": {
             "endlinecolor": "#2a3f5f",
             "gridcolor": "white",
             "linecolor": "white",
             "minorgridcolor": "white",
             "startlinecolor": "#2a3f5f"
            },
            "type": "carpet"
           }
          ],
          "choropleth": [
           {
            "colorbar": {
             "outlinewidth": 0,
             "ticks": ""
            },
            "type": "choropleth"
           }
          ],
          "contour": [
           {
            "colorbar": {
             "outlinewidth": 0,
             "ticks": ""
            },
            "colorscale": [
             [
              0,
              "#0d0887"
             ],
             [
              0.1111111111111111,
              "#46039f"
             ],
             [
              0.2222222222222222,
              "#7201a8"
             ],
             [
              0.3333333333333333,
              "#9c179e"
             ],
             [
              0.4444444444444444,
              "#bd3786"
             ],
             [
              0.5555555555555556,
              "#d8576b"
             ],
             [
              0.6666666666666666,
              "#ed7953"
             ],
             [
              0.7777777777777778,
              "#fb9f3a"
             ],
             [
              0.8888888888888888,
              "#fdca26"
             ],
             [
              1,
              "#f0f921"
             ]
            ],
            "type": "contour"
           }
          ],
          "contourcarpet": [
           {
            "colorbar": {
             "outlinewidth": 0,
             "ticks": ""
            },
            "type": "contourcarpet"
           }
          ],
          "heatmap": [
           {
            "colorbar": {
             "outlinewidth": 0,
             "ticks": ""
            },
            "colorscale": [
             [
              0,
              "#0d0887"
             ],
             [
              0.1111111111111111,
              "#46039f"
             ],
             [
              0.2222222222222222,
              "#7201a8"
             ],
             [
              0.3333333333333333,
              "#9c179e"
             ],
             [
              0.4444444444444444,
              "#bd3786"
             ],
             [
              0.5555555555555556,
              "#d8576b"
             ],
             [
              0.6666666666666666,
              "#ed7953"
             ],
             [
              0.7777777777777778,
              "#fb9f3a"
             ],
             [
              0.8888888888888888,
              "#fdca26"
             ],
             [
              1,
              "#f0f921"
             ]
            ],
            "type": "heatmap"
           }
          ],
          "heatmapgl": [
           {
            "colorbar": {
             "outlinewidth": 0,
             "ticks": ""
            },
            "colorscale": [
             [
              0,
              "#0d0887"
             ],
             [
              0.1111111111111111,
              "#46039f"
             ],
             [
              0.2222222222222222,
              "#7201a8"
             ],
             [
              0.3333333333333333,
              "#9c179e"
             ],
             [
              0.4444444444444444,
              "#bd3786"
             ],
             [
              0.5555555555555556,
              "#d8576b"
             ],
             [
              0.6666666666666666,
              "#ed7953"
             ],
             [
              0.7777777777777778,
              "#fb9f3a"
             ],
             [
              0.8888888888888888,
              "#fdca26"
             ],
             [
              1,
              "#f0f921"
             ]
            ],
            "type": "heatmapgl"
           }
          ],
          "histogram": [
           {
            "marker": {
             "colorbar": {
              "outlinewidth": 0,
              "ticks": ""
             }
            },
            "type": "histogram"
           }
          ],
          "histogram2d": [
           {
            "colorbar": {
             "outlinewidth": 0,
             "ticks": ""
            },
            "colorscale": [
             [
              0,
              "#0d0887"
             ],
             [
              0.1111111111111111,
              "#46039f"
             ],
             [
              0.2222222222222222,
              "#7201a8"
             ],
             [
              0.3333333333333333,
              "#9c179e"
             ],
             [
              0.4444444444444444,
              "#bd3786"
             ],
             [
              0.5555555555555556,
              "#d8576b"
             ],
             [
              0.6666666666666666,
              "#ed7953"
             ],
             [
              0.7777777777777778,
              "#fb9f3a"
             ],
             [
              0.8888888888888888,
              "#fdca26"
             ],
             [
              1,
              "#f0f921"
             ]
            ],
            "type": "histogram2d"
           }
          ],
          "histogram2dcontour": [
           {
            "colorbar": {
             "outlinewidth": 0,
             "ticks": ""
            },
            "colorscale": [
             [
              0,
              "#0d0887"
             ],
             [
              0.1111111111111111,
              "#46039f"
             ],
             [
              0.2222222222222222,
              "#7201a8"
             ],
             [
              0.3333333333333333,
              "#9c179e"
             ],
             [
              0.4444444444444444,
              "#bd3786"
             ],
             [
              0.5555555555555556,
              "#d8576b"
             ],
             [
              0.6666666666666666,
              "#ed7953"
             ],
             [
              0.7777777777777778,
              "#fb9f3a"
             ],
             [
              0.8888888888888888,
              "#fdca26"
             ],
             [
              1,
              "#f0f921"
             ]
            ],
            "type": "histogram2dcontour"
           }
          ],
          "mesh3d": [
           {
            "colorbar": {
             "outlinewidth": 0,
             "ticks": ""
            },
            "type": "mesh3d"
           }
          ],
          "parcoords": [
           {
            "line": {
             "colorbar": {
              "outlinewidth": 0,
              "ticks": ""
             }
            },
            "type": "parcoords"
           }
          ],
          "pie": [
           {
            "automargin": true,
            "type": "pie"
           }
          ],
          "scatter": [
           {
            "marker": {
             "colorbar": {
              "outlinewidth": 0,
              "ticks": ""
             }
            },
            "type": "scatter"
           }
          ],
          "scatter3d": [
           {
            "line": {
             "colorbar": {
              "outlinewidth": 0,
              "ticks": ""
             }
            },
            "marker": {
             "colorbar": {
              "outlinewidth": 0,
              "ticks": ""
             }
            },
            "type": "scatter3d"
           }
          ],
          "scattercarpet": [
           {
            "marker": {
             "colorbar": {
              "outlinewidth": 0,
              "ticks": ""
             }
            },
            "type": "scattercarpet"
           }
          ],
          "scattergeo": [
           {
            "marker": {
             "colorbar": {
              "outlinewidth": 0,
              "ticks": ""
             }
            },
            "type": "scattergeo"
           }
          ],
          "scattergl": [
           {
            "marker": {
             "colorbar": {
              "outlinewidth": 0,
              "ticks": ""
             }
            },
            "type": "scattergl"
           }
          ],
          "scattermapbox": [
           {
            "marker": {
             "colorbar": {
              "outlinewidth": 0,
              "ticks": ""
             }
            },
            "type": "scattermapbox"
           }
          ],
          "scatterpolar": [
           {
            "marker": {
             "colorbar": {
              "outlinewidth": 0,
              "ticks": ""
             }
            },
            "type": "scatterpolar"
           }
          ],
          "scatterpolargl": [
           {
            "marker": {
             "colorbar": {
              "outlinewidth": 0,
              "ticks": ""
             }
            },
            "type": "scatterpolargl"
           }
          ],
          "scatterternary": [
           {
            "marker": {
             "colorbar": {
              "outlinewidth": 0,
              "ticks": ""
             }
            },
            "type": "scatterternary"
           }
          ],
          "surface": [
           {
            "colorbar": {
             "outlinewidth": 0,
             "ticks": ""
            },
            "colorscale": [
             [
              0,
              "#0d0887"
             ],
             [
              0.1111111111111111,
              "#46039f"
             ],
             [
              0.2222222222222222,
              "#7201a8"
             ],
             [
              0.3333333333333333,
              "#9c179e"
             ],
             [
              0.4444444444444444,
              "#bd3786"
             ],
             [
              0.5555555555555556,
              "#d8576b"
             ],
             [
              0.6666666666666666,
              "#ed7953"
             ],
             [
              0.7777777777777778,
              "#fb9f3a"
             ],
             [
              0.8888888888888888,
              "#fdca26"
             ],
             [
              1,
              "#f0f921"
             ]
            ],
            "type": "surface"
           }
          ],
          "table": [
           {
            "cells": {
             "fill": {
              "color": "#EBF0F8"
             },
             "line": {
              "color": "white"
             }
            },
            "header": {
             "fill": {
              "color": "#C8D4E3"
             },
             "line": {
              "color": "white"
             }
            },
            "type": "table"
           }
          ]
         },
         "layout": {
          "annotationdefaults": {
           "arrowcolor": "#2a3f5f",
           "arrowhead": 0,
           "arrowwidth": 1
          },
          "coloraxis": {
           "colorbar": {
            "outlinewidth": 0,
            "ticks": ""
           }
          },
          "colorscale": {
           "diverging": [
            [
             0,
             "#8e0152"
            ],
            [
             0.1,
             "#c51b7d"
            ],
            [
             0.2,
             "#de77ae"
            ],
            [
             0.3,
             "#f1b6da"
            ],
            [
             0.4,
             "#fde0ef"
            ],
            [
             0.5,
             "#f7f7f7"
            ],
            [
             0.6,
             "#e6f5d0"
            ],
            [
             0.7,
             "#b8e186"
            ],
            [
             0.8,
             "#7fbc41"
            ],
            [
             0.9,
             "#4d9221"
            ],
            [
             1,
             "#276419"
            ]
           ],
           "sequential": [
            [
             0,
             "#0d0887"
            ],
            [
             0.1111111111111111,
             "#46039f"
            ],
            [
             0.2222222222222222,
             "#7201a8"
            ],
            [
             0.3333333333333333,
             "#9c179e"
            ],
            [
             0.4444444444444444,
             "#bd3786"
            ],
            [
             0.5555555555555556,
             "#d8576b"
            ],
            [
             0.6666666666666666,
             "#ed7953"
            ],
            [
             0.7777777777777778,
             "#fb9f3a"
            ],
            [
             0.8888888888888888,
             "#fdca26"
            ],
            [
             1,
             "#f0f921"
            ]
           ],
           "sequentialminus": [
            [
             0,
             "#0d0887"
            ],
            [
             0.1111111111111111,
             "#46039f"
            ],
            [
             0.2222222222222222,
             "#7201a8"
            ],
            [
             0.3333333333333333,
             "#9c179e"
            ],
            [
             0.4444444444444444,
             "#bd3786"
            ],
            [
             0.5555555555555556,
             "#d8576b"
            ],
            [
             0.6666666666666666,
             "#ed7953"
            ],
            [
             0.7777777777777778,
             "#fb9f3a"
            ],
            [
             0.8888888888888888,
             "#fdca26"
            ],
            [
             1,
             "#f0f921"
            ]
           ]
          },
          "colorway": [
           "#636efa",
           "#EF553B",
           "#00cc96",
           "#ab63fa",
           "#FFA15A",
           "#19d3f3",
           "#FF6692",
           "#B6E880",
           "#FF97FF",
           "#FECB52"
          ],
          "font": {
           "color": "#2a3f5f"
          },
          "geo": {
           "bgcolor": "white",
           "lakecolor": "white",
           "landcolor": "#E5ECF6",
           "showlakes": true,
           "showland": true,
           "subunitcolor": "white"
          },
          "hoverlabel": {
           "align": "left"
          },
          "hovermode": "closest",
          "mapbox": {
           "style": "light"
          },
          "paper_bgcolor": "white",
          "plot_bgcolor": "#E5ECF6",
          "polar": {
           "angularaxis": {
            "gridcolor": "white",
            "linecolor": "white",
            "ticks": ""
           },
           "bgcolor": "#E5ECF6",
           "radialaxis": {
            "gridcolor": "white",
            "linecolor": "white",
            "ticks": ""
           }
          },
          "scene": {
           "xaxis": {
            "backgroundcolor": "#E5ECF6",
            "gridcolor": "white",
            "gridwidth": 2,
            "linecolor": "white",
            "showbackground": true,
            "ticks": "",
            "zerolinecolor": "white"
           },
           "yaxis": {
            "backgroundcolor": "#E5ECF6",
            "gridcolor": "white",
            "gridwidth": 2,
            "linecolor": "white",
            "showbackground": true,
            "ticks": "",
            "zerolinecolor": "white"
           },
           "zaxis": {
            "backgroundcolor": "#E5ECF6",
            "gridcolor": "white",
            "gridwidth": 2,
            "linecolor": "white",
            "showbackground": true,
            "ticks": "",
            "zerolinecolor": "white"
           }
          },
          "shapedefaults": {
           "line": {
            "color": "#2a3f5f"
           }
          },
          "ternary": {
           "aaxis": {
            "gridcolor": "white",
            "linecolor": "white",
            "ticks": ""
           },
           "baxis": {
            "gridcolor": "white",
            "linecolor": "white",
            "ticks": ""
           },
           "bgcolor": "#E5ECF6",
           "caxis": {
            "gridcolor": "white",
            "linecolor": "white",
            "ticks": ""
           }
          },
          "title": {
           "x": 0.05
          },
          "xaxis": {
           "automargin": true,
           "gridcolor": "white",
           "linecolor": "white",
           "ticks": "",
           "title": {
            "standoff": 15
           },
           "zerolinecolor": "white",
           "zerolinewidth": 2
          },
          "yaxis": {
           "automargin": true,
           "gridcolor": "white",
           "linecolor": "white",
           "ticks": "",
           "title": {
            "standoff": 15
           },
           "zerolinecolor": "white",
           "zerolinewidth": 2
          }
         }
        },
        "title": {
         "text": "Performance of A vs. B"
        },
        "xaxis": {
         "autorange": true,
         "linecolor": "#BCCCDC",
         "range": [
          0,
          99
         ],
         "showspikes": true,
         "spikecolor": "#999999",
         "spikedash": "dot",
         "spikemode": "across",
         "spikethickness": 1,
         "title": {
          "text": "time"
         },
         "type": "linear"
        },
        "yaxis": {
         "autorange": true,
         "linecolor": "#BCCCDC",
         "range": [
          -34.664715012727214,
          966.1616460846777
         ],
         "showspikes": false,
         "title": {
          "text": "price"
         },
         "type": "linear"
        }
       }
      },
      "image/png": "[encoded data removed]"
     },
     "metadata": {},
     "output_type": "display_data"
    }
   ],
   "source": [
    "import plotly.graph_objects as go\n",
    "import numpy as np\n",
    "np.random.seed(42)\n",
    "\n",
    "# Simulate data\n",
    "returns_A = np.random.normal(0.01, 0.2, 100)\n",
    "returns_B = np.random.normal(0.01, 0.2, 100)\n",
    "returns = np.append(returns_A, returns_B)\n",
    "\n",
    "prices_A = 100 * np.exp(returns_A.cumsum())\n",
    "prices_B = 100 * np.exp(returns_B.cumsum())\n",
    "prices = np.append(prices_A, prices_B)\n",
    "\n",
    "companies = [\"A\"] * 100 + [\"B\"] * 100\n",
    "time = np.append(np.arange(100), np.arange(100))\n",
    "\n",
    "df = pd.DataFrame({\n",
    "    \"company\": companies,\n",
    "    \"time\": time,\n",
    "    \"price\": prices,\n",
    "    \"returns\": returns\n",
    "})\n",
    "\n",
    "# Build graph\n",
    "layout = go.Layout(\n",
    "    title=\"Performance of A vs. B\",    \n",
    "    plot_bgcolor=\"#FFFFFF\",\n",
    "    hovermode=\"x\",\n",
    "    hoverdistance=100, # Distance to show hover label of data point\n",
    "    spikedistance=1000, # Distance to show spike\n",
    "    xaxis=dict(\n",
    "        title=\"time\",\n",
    "        linecolor=\"#BCCCDC\",\n",
    "        showspikes=True, # Show spike line for X-axis\n",
    "        # Format spike\n",
    "        spikethickness=1,\n",
    "        spikedash=\"dot\",\n",
    "        spikecolor=\"#999999\",\n",
    "        spikemode=\"across\",\n",
    "    ),\n",
    "    yaxis=dict(\n",
    "        title=\"price\",\n",
    "        linecolor=\"#BCCCDC\"\n",
    "    )\n",
    ")\n",
    "\n",
    "data = []\n",
    "for company in [\"A\", \"B\"]:\n",
    "    time = df.loc[df.company == company, \"time\"]\n",
    "    price = df.loc[df.company == company, \"price\"]\n",
    "    returns = df.loc[df.company == company, \"returns\"]\n",
    "    line_chart = go.Scatter(\n",
    "        x=time,\n",
    "        y=price,\n",
    "        name=company\n",
    "    )\n",
    "    data.append(line_chart)\n",
    "\n",
    "fig = go.Figure(data=data, layout=layout)\n",
    "fig.show()"
   ]
  },
  {
   "cell_type": "code",
   "execution_count": 56,
   "metadata": {},
   "outputs": [
    {
     "data": {
      "application/vnd.plotly.v1+json": {
       "config": {
        "displayModeBar": false,
        "plotlyServerURL": "https://plot.ly",
        "showTips": false
       },
       "data": [
        {
         "name": "A",
         "type": "scatter",
         "visible": true,
         "x": [
          0,
          1,
          2,
          3,
          4,
          5,
          6,
          7,
          8,
          9,
          10,
          11,
          12,
          13,
          14,
          15,
          16,
          17,
          18,
          19,
          20,
          21,
          22,
          23,
          24,
          25,
          26,
          27,
          28,
          29,
          30,
          31,
          32,
          33,
          34,
          35,
          36,
          37,
          38,
          39,
          40,
          41,
          42,
          43,
          44,
          45,
          46,
          47,
          48,
          49,
          50,
          51,
          52,
          53,
          54,
          55,
          56,
          57,
          58,
          59,
          60,
          61,
          62,
          63,
          64,
          65,
          66,
          67,
          68,
          69,
          70,
          71,
          72,
          73,
          74,
          75,
          76,
          77,
          78,
          79,
          80,
          81,
          82,
          83,
          84,
          85,
          86,
          87,
          88,
          89,
          90,
          91,
          92,
          93,
          94,
          95,
          96,
          97,
          98,
          99
         ],
         "y": [
          111.55447276631966,
          109.60249691834565,
          126.01461143225268,
          172.6046700338074,
          166.36316842931524,
          160.34789025432207,
          222.11345991757656,
          261.56302761698055,
          240.51450526239404,
          270.776135000145,
          249.2880040458175,
          229.39901711802895,
          243.19300185780656,
          167.53617958957446,
          119.84697959126889,
          108.17586183679062,
          89.22774457615769,
          95.97056171045878,
          80.83715350818882,
          61.557761180467764,
          83.3547581545783,
          80.47531037037449,
          82.38934125486044,
          62.58379868135761,
          56.69181775779158,
          58.5460960510469,
          46.97500703946827,
          51.14963205004648,
          45.81573361504905,
          43.653733482884064,
          39.09315893702362,
          57.19137643177289,
          57.610433035597595,
          47.09474834026191,
          56.0739007508695,
          44.3672572039067,
          46.72477164075374,
          31.89152948836297,
          24.697529823095383,
          25.947505521298257,
          30.379522961067206,
          31.754754141888082,
          31.340550256132442,
          29.805473623520996,
          22.398358103254946,
          19.58999184228042,
          18.04540463202886,
          22.518011646416337,
          24.362356253526237,
          17.29523678811551,
          18.638846556107577,
          17.430673014757694,
          15.37660304214303,
          17.552253196385482,
          21.78849838238851,
          26.51308162066303,
          22.641732009772504,
          21.49783596843837,
          23.20122232525389,
          28.483187164326147,
          26.14032501049731,
          25.44062602933242,
          20.595659535596027,
          16.37636319527979,
          19.459671407909106,
          25.779824678679407,
          25.666590675849122,
          31.686691051487514,
          34.405758791151094,
          30.544969457005728,
          33.16447016984517,
          45.5625651905479,
          45.69190883852327,
          63.108152690456144,
          37.74680902882985,
          44.937895832742015,
          46.18665287816117,
          43.94282633619902,
          45.20652988206295,
          30.68358312399416,
          29.659823393726885,
          32.175841166966194,
          43.675823262470715,
          39.77110572914309,
          34.17320786695916,
          31.220987115411436,
          37.870443621649095,
          40.850586479501274,
          37.11306772401548,
          41.53857958590121,
          42.77860668625683,
          52.4451117361934,
          46.032907132427326,
          43.546271432930894,
          40.66641035218993,
          30.652047525831062,
          32.84907279181588,
          34.95755367797753,
          35.345011492722925,
          34.06395673721769
         ]
        },
        {
         "name": "B",
         "type": "scatter",
         "visible": true,
         "x": [
          0,
          1,
          2,
          3,
          4,
          5,
          6,
          7,
          8,
          9,
          10,
          11,
          12,
          13,
          14,
          15,
          16,
          17,
          18,
          19,
          20,
          21,
          22,
          23,
          24,
          25,
          26,
          27,
          28,
          29,
          30,
          31,
          32,
          33,
          34,
          35,
          36,
          37,
          38,
          39,
          40,
          41,
          42,
          43,
          44,
          45,
          46,
          47,
          48,
          49,
          50,
          51,
          52,
          53,
          54,
          55,
          56,
          57,
          58,
          59,
          60,
          61,
          62,
          63,
          64,
          65,
          66,
          67,
          68,
          69,
          70,
          71,
          72,
          73,
          74,
          75,
          76,
          77,
          78,
          79,
          80,
          81,
          82,
          83,
          84,
          85,
          86,
          87,
          88,
          89,
          90,
          91,
          92,
          93,
          94,
          95,
          96,
          97,
          98,
          99
         ],
         "y": [
          76.10363559009934,
          70.66617108455748,
          66.64793542125005,
          57.338288737320894,
          56.07619963292105,
          61.406865502572614,
          90.44652799014652,
          94.6015998561484,
          100.60324019633083,
          100.11257298754104,
          68.8920674226665,
          69.21643016385775,
          70.75932334316757,
          116.97178232965477,
          113.6883048882715,
          121.96937694171837,
          122.34288686600942,
          97.81637955068572,
          124.17062228698504,
          145.77192059659208,
          172.47453492225657,
          145.2377581550859,
          194.2082376155187,
          148.199710675752,
          168.33098320725125,
          263.4920783987701,
          218.3099931174507,
          196.89222416593927,
          202.87433878333601,
          185.28434327159178,
          137.24380593355775,
          140.53710473131036,
          114.77925956772854,
          127.45065727179725,
          107.10872510733789,
          147.50046407717895,
          127.38075391992116,
          120.63486761221876,
          143.37617974839182,
          113.21616325785284,
          119.67633943186414,
          156.99586671048655,
          114.97593336839216,
          120.49998194674694,
          128.20443803701983,
          151.40990117412522,
          119.41449522574763,
          92.62038626985174,
          103.84481119429427,
          111.30726378769458,
          118.20177116829089,
          127.95552354883775,
          112.80693153413908,
          119.35813679580963,
          127.83533891338168,
          111.92989495735095,
          164.19054935412814,
          182.32562263627258,
          145.11601477470174,
          167.1420828377239,
          138.92134533691274,
          164.23935291592414,
          209.14837925006572,
          179.27258790632433,
          219.55059581696995,
          240.84146517989117,
          286.7328448888621,
          423.22735830415184,
          407.007617519016,
          353.5711254588074,
          298.9217348385771,
          256.47205870178647,
          255.0856532503926,
          275.84242501550597,
          294.46729334920036,
          350.93625191463616,
          355.3861578480819,
          480.0603294227434,
          459.8868199644274,
          800.3220818611469,
          916.1203280298075,
          779.5495144332475,
          635.5798346175627,
          707.001078021255,
          682.8939888987287,
          795.6343590870193,
          883.4080903763332,
          879.3838350774145,
          749.8421601141548,
          559.415946201637,
          516.7660697736407,
          619.4735811468931,
          653.0729273667488,
          514.1633660805848,
          537.6335708134596,
          586.5399072992137,
          496.443272251888,
          517.0886050314011,
          528.40127550869,
          424.6485675562842
         ]
        }
       ],
       "layout": {
        "autosize": true,
        "legend": {
         "itemclick": "toggleothers",
         "itemdoubleclick": "toggle"
        },
        "plot_bgcolor": "#FFFFFF",
        "template": {
         "data": {
          "bar": [
           {
            "error_x": {
             "color": "#2a3f5f"
            },
            "error_y": {
             "color": "#2a3f5f"
            },
            "marker": {
             "line": {
              "color": "#E5ECF6",
              "width": 0.5
             }
            },
            "type": "bar"
           }
          ],
          "barpolar": [
           {
            "marker": {
             "line": {
              "color": "#E5ECF6",
              "width": 0.5
             }
            },
            "type": "barpolar"
           }
          ],
          "carpet": [
           {
            "aaxis": {
             "endlinecolor": "#2a3f5f",
             "gridcolor": "white",
             "linecolor": "white",
             "minorgridcolor": "white",
             "startlinecolor": "#2a3f5f"
            },
            "baxis": {
             "endlinecolor": "#2a3f5f",
             "gridcolor": "white",
             "linecolor": "white",
             "minorgridcolor": "white",
             "startlinecolor": "#2a3f5f"
            },
            "type": "carpet"
           }
          ],
          "choropleth": [
           {
            "colorbar": {
             "outlinewidth": 0,
             "ticks": ""
            },
            "type": "choropleth"
           }
          ],
          "contour": [
           {
            "colorbar": {
             "outlinewidth": 0,
             "ticks": ""
            },
            "colorscale": [
             [
              0,
              "#0d0887"
             ],
             [
              0.1111111111111111,
              "#46039f"
             ],
             [
              0.2222222222222222,
              "#7201a8"
             ],
             [
              0.3333333333333333,
              "#9c179e"
             ],
             [
              0.4444444444444444,
              "#bd3786"
             ],
             [
              0.5555555555555556,
              "#d8576b"
             ],
             [
              0.6666666666666666,
              "#ed7953"
             ],
             [
              0.7777777777777778,
              "#fb9f3a"
             ],
             [
              0.8888888888888888,
              "#fdca26"
             ],
             [
              1,
              "#f0f921"
             ]
            ],
            "type": "contour"
           }
          ],
          "contourcarpet": [
           {
            "colorbar": {
             "outlinewidth": 0,
             "ticks": ""
            },
            "type": "contourcarpet"
           }
          ],
          "heatmap": [
           {
            "colorbar": {
             "outlinewidth": 0,
             "ticks": ""
            },
            "colorscale": [
             [
              0,
              "#0d0887"
             ],
             [
              0.1111111111111111,
              "#46039f"
             ],
             [
              0.2222222222222222,
              "#7201a8"
             ],
             [
              0.3333333333333333,
              "#9c179e"
             ],
             [
              0.4444444444444444,
              "#bd3786"
             ],
             [
              0.5555555555555556,
              "#d8576b"
             ],
             [
              0.6666666666666666,
              "#ed7953"
             ],
             [
              0.7777777777777778,
              "#fb9f3a"
             ],
             [
              0.8888888888888888,
              "#fdca26"
             ],
             [
              1,
              "#f0f921"
             ]
            ],
            "type": "heatmap"
           }
          ],
          "heatmapgl": [
           {
            "colorbar": {
             "outlinewidth": 0,
             "ticks": ""
            },
            "colorscale": [
             [
              0,
              "#0d0887"
             ],
             [
              0.1111111111111111,
              "#46039f"
             ],
             [
              0.2222222222222222,
              "#7201a8"
             ],
             [
              0.3333333333333333,
              "#9c179e"
             ],
             [
              0.4444444444444444,
              "#bd3786"
             ],
             [
              0.5555555555555556,
              "#d8576b"
             ],
             [
              0.6666666666666666,
              "#ed7953"
             ],
             [
              0.7777777777777778,
              "#fb9f3a"
             ],
             [
              0.8888888888888888,
              "#fdca26"
             ],
             [
              1,
              "#f0f921"
             ]
            ],
            "type": "heatmapgl"
           }
          ],
          "histogram": [
           {
            "marker": {
             "colorbar": {
              "outlinewidth": 0,
              "ticks": ""
             }
            },
            "type": "histogram"
           }
          ],
          "histogram2d": [
           {
            "colorbar": {
             "outlinewidth": 0,
             "ticks": ""
            },
            "colorscale": [
             [
              0,
              "#0d0887"
             ],
             [
              0.1111111111111111,
              "#46039f"
             ],
             [
              0.2222222222222222,
              "#7201a8"
             ],
             [
              0.3333333333333333,
              "#9c179e"
             ],
             [
              0.4444444444444444,
              "#bd3786"
             ],
             [
              0.5555555555555556,
              "#d8576b"
             ],
             [
              0.6666666666666666,
              "#ed7953"
             ],
             [
              0.7777777777777778,
              "#fb9f3a"
             ],
             [
              0.8888888888888888,
              "#fdca26"
             ],
             [
              1,
              "#f0f921"
             ]
            ],
            "type": "histogram2d"
           }
          ],
          "histogram2dcontour": [
           {
            "colorbar": {
             "outlinewidth": 0,
             "ticks": ""
            },
            "colorscale": [
             [
              0,
              "#0d0887"
             ],
             [
              0.1111111111111111,
              "#46039f"
             ],
             [
              0.2222222222222222,
              "#7201a8"
             ],
             [
              0.3333333333333333,
              "#9c179e"
             ],
             [
              0.4444444444444444,
              "#bd3786"
             ],
             [
              0.5555555555555556,
              "#d8576b"
             ],
             [
              0.6666666666666666,
              "#ed7953"
             ],
             [
              0.7777777777777778,
              "#fb9f3a"
             ],
             [
              0.8888888888888888,
              "#fdca26"
             ],
             [
              1,
              "#f0f921"
             ]
            ],
            "type": "histogram2dcontour"
           }
          ],
          "mesh3d": [
           {
            "colorbar": {
             "outlinewidth": 0,
             "ticks": ""
            },
            "type": "mesh3d"
           }
          ],
          "parcoords": [
           {
            "line": {
             "colorbar": {
              "outlinewidth": 0,
              "ticks": ""
             }
            },
            "type": "parcoords"
           }
          ],
          "pie": [
           {
            "automargin": true,
            "type": "pie"
           }
          ],
          "scatter": [
           {
            "marker": {
             "colorbar": {
              "outlinewidth": 0,
              "ticks": ""
             }
            },
            "type": "scatter"
           }
          ],
          "scatter3d": [
           {
            "line": {
             "colorbar": {
              "outlinewidth": 0,
              "ticks": ""
             }
            },
            "marker": {
             "colorbar": {
              "outlinewidth": 0,
              "ticks": ""
             }
            },
            "type": "scatter3d"
           }
          ],
          "scattercarpet": [
           {
            "marker": {
             "colorbar": {
              "outlinewidth": 0,
              "ticks": ""
             }
            },
            "type": "scattercarpet"
           }
          ],
          "scattergeo": [
           {
            "marker": {
             "colorbar": {
              "outlinewidth": 0,
              "ticks": ""
             }
            },
            "type": "scattergeo"
           }
          ],
          "scattergl": [
           {
            "marker": {
             "colorbar": {
              "outlinewidth": 0,
              "ticks": ""
             }
            },
            "type": "scattergl"
           }
          ],
          "scattermapbox": [
           {
            "marker": {
             "colorbar": {
              "outlinewidth": 0,
              "ticks": ""
             }
            },
            "type": "scattermapbox"
           }
          ],
          "scatterpolar": [
           {
            "marker": {
             "colorbar": {
              "outlinewidth": 0,
              "ticks": ""
             }
            },
            "type": "scatterpolar"
           }
          ],
          "scatterpolargl": [
           {
            "marker": {
             "colorbar": {
              "outlinewidth": 0,
              "ticks": ""
             }
            },
            "type": "scatterpolargl"
           }
          ],
          "scatterternary": [
           {
            "marker": {
             "colorbar": {
              "outlinewidth": 0,
              "ticks": ""
             }
            },
            "type": "scatterternary"
           }
          ],
          "surface": [
           {
            "colorbar": {
             "outlinewidth": 0,
             "ticks": ""
            },
            "colorscale": [
             [
              0,
              "#0d0887"
             ],
             [
              0.1111111111111111,
              "#46039f"
             ],
             [
              0.2222222222222222,
              "#7201a8"
             ],
             [
              0.3333333333333333,
              "#9c179e"
             ],
             [
              0.4444444444444444,
              "#bd3786"
             ],
             [
              0.5555555555555556,
              "#d8576b"
             ],
             [
              0.6666666666666666,
              "#ed7953"
             ],
             [
              0.7777777777777778,
              "#fb9f3a"
             ],
             [
              0.8888888888888888,
              "#fdca26"
             ],
             [
              1,
              "#f0f921"
             ]
            ],
            "type": "surface"
           }
          ],
          "table": [
           {
            "cells": {
             "fill": {
              "color": "#EBF0F8"
             },
             "line": {
              "color": "white"
             }
            },
            "header": {
             "fill": {
              "color": "#C8D4E3"
             },
             "line": {
              "color": "white"
             }
            },
            "type": "table"
           }
          ]
         },
         "layout": {
          "annotationdefaults": {
           "arrowcolor": "#2a3f5f",
           "arrowhead": 0,
           "arrowwidth": 1
          },
          "coloraxis": {
           "colorbar": {
            "outlinewidth": 0,
            "ticks": ""
           }
          },
          "colorscale": {
           "diverging": [
            [
             0,
             "#8e0152"
            ],
            [
             0.1,
             "#c51b7d"
            ],
            [
             0.2,
             "#de77ae"
            ],
            [
             0.3,
             "#f1b6da"
            ],
            [
             0.4,
             "#fde0ef"
            ],
            [
             0.5,
             "#f7f7f7"
            ],
            [
             0.6,
             "#e6f5d0"
            ],
            [
             0.7,
             "#b8e186"
            ],
            [
             0.8,
             "#7fbc41"
            ],
            [
             0.9,
             "#4d9221"
            ],
            [
             1,
             "#276419"
            ]
           ],
           "sequential": [
            [
             0,
             "#0d0887"
            ],
            [
             0.1111111111111111,
             "#46039f"
            ],
            [
             0.2222222222222222,
             "#7201a8"
            ],
            [
             0.3333333333333333,
             "#9c179e"
            ],
            [
             0.4444444444444444,
             "#bd3786"
            ],
            [
             0.5555555555555556,
             "#d8576b"
            ],
            [
             0.6666666666666666,
             "#ed7953"
            ],
            [
             0.7777777777777778,
             "#fb9f3a"
            ],
            [
             0.8888888888888888,
             "#fdca26"
            ],
            [
             1,
             "#f0f921"
            ]
           ],
           "sequentialminus": [
            [
             0,
             "#0d0887"
            ],
            [
             0.1111111111111111,
             "#46039f"
            ],
            [
             0.2222222222222222,
             "#7201a8"
            ],
            [
             0.3333333333333333,
             "#9c179e"
            ],
            [
             0.4444444444444444,
             "#bd3786"
            ],
            [
             0.5555555555555556,
             "#d8576b"
            ],
            [
             0.6666666666666666,
             "#ed7953"
            ],
            [
             0.7777777777777778,
             "#fb9f3a"
            ],
            [
             0.8888888888888888,
             "#fdca26"
            ],
            [
             1,
             "#f0f921"
            ]
           ]
          },
          "colorway": [
           "#636efa",
           "#EF553B",
           "#00cc96",
           "#ab63fa",
           "#FFA15A",
           "#19d3f3",
           "#FF6692",
           "#B6E880",
           "#FF97FF",
           "#FECB52"
          ],
          "font": {
           "color": "#2a3f5f"
          },
          "geo": {
           "bgcolor": "white",
           "lakecolor": "white",
           "landcolor": "#E5ECF6",
           "showlakes": true,
           "showland": true,
           "subunitcolor": "white"
          },
          "hoverlabel": {
           "align": "left"
          },
          "hovermode": "closest",
          "mapbox": {
           "style": "light"
          },
          "paper_bgcolor": "white",
          "plot_bgcolor": "#E5ECF6",
          "polar": {
           "angularaxis": {
            "gridcolor": "white",
            "linecolor": "white",
            "ticks": ""
           },
           "bgcolor": "#E5ECF6",
           "radialaxis": {
            "gridcolor": "white",
            "linecolor": "white",
            "ticks": ""
           }
          },
          "scene": {
           "xaxis": {
            "backgroundcolor": "#E5ECF6",
            "gridcolor": "white",
            "gridwidth": 2,
            "linecolor": "white",
            "showbackground": true,
            "ticks": "",
            "zerolinecolor": "white"
           },
           "yaxis": {
            "backgroundcolor": "#E5ECF6",
            "gridcolor": "white",
            "gridwidth": 2,
            "linecolor": "white",
            "showbackground": true,
            "ticks": "",
            "zerolinecolor": "white"
           },
           "zaxis": {
            "backgroundcolor": "#E5ECF6",
            "gridcolor": "white",
            "gridwidth": 2,
            "linecolor": "white",
            "showbackground": true,
            "ticks": "",
            "zerolinecolor": "white"
           }
          },
          "shapedefaults": {
           "line": {
            "color": "#2a3f5f"
           }
          },
          "ternary": {
           "aaxis": {
            "gridcolor": "white",
            "linecolor": "white",
            "ticks": ""
           },
           "baxis": {
            "gridcolor": "white",
            "linecolor": "white",
            "ticks": ""
           },
           "bgcolor": "#E5ECF6",
           "caxis": {
            "gridcolor": "white",
            "linecolor": "white",
            "ticks": ""
           }
          },
          "title": {
           "x": 0.05
          },
          "xaxis": {
           "automargin": true,
           "gridcolor": "white",
           "linecolor": "white",
           "ticks": "",
           "title": {
            "standoff": 15
           },
           "zerolinecolor": "white",
           "zerolinewidth": 2
          },
          "yaxis": {
           "automargin": true,
           "gridcolor": "white",
           "linecolor": "white",
           "ticks": "",
           "title": {
            "standoff": 15
           },
           "zerolinecolor": "white",
           "zerolinewidth": 2
          }
         }
        },
        "title": {
         "text": "Performance of A vs. B"
        },
        "xaxis": {
         "autorange": true,
         "linecolor": "#BCCCDC",
         "range": [
          0,
          99
         ],
         "title": {
          "text": "time"
         },
         "type": "linear"
        },
        "yaxis": {
         "autorange": true,
         "linecolor": "#BCCCDC",
         "range": [
          -34.664715012727214,
          966.1616460846777
         ],
         "title": {
          "text": "price"
         },
         "type": "linear"
        }
       }
      },
      "image/png": "[encoded data removed]"
     },
     "metadata": {},
     "output_type": "display_data"
    }
   ],
   "source": [
    "import plotly.graph_objects as go\n",
    "import numpy as np\n",
    "np.random.seed(42)\n",
    "\n",
    "# Simulate data\n",
    "returns_A = np.random.normal(0.01, 0.2, 100)\n",
    "returns_B = np.random.normal(0.01, 0.2, 100)\n",
    "returns = np.append(returns_A, returns_B)\n",
    "\n",
    "prices_A = 100 * np.exp(returns_A.cumsum())\n",
    "prices_B = 100 * np.exp(returns_B.cumsum())\n",
    "prices = np.append(prices_A, prices_B)\n",
    "\n",
    "companies = [\"A\"] * 100 + [\"B\"] * 100\n",
    "time = np.append(np.arange(100), np.arange(100))\n",
    "\n",
    "df = pd.DataFrame({\n",
    "    \"company\": companies,\n",
    "    \"time\": time,\n",
    "    \"price\": prices,\n",
    "    \"returns\": returns\n",
    "})\n",
    "\n",
    "# Build graph\n",
    "layout = go.Layout(\n",
    "    title=\"Performance of A vs. B\",    \n",
    "    plot_bgcolor=\"#FFFFFF\",\n",
    "    legend=dict(\n",
    "        # Adjust click behavior\n",
    "        itemclick=\"toggleothers\",\n",
    "        itemdoubleclick=\"toggle\",\n",
    "    ),\n",
    "    xaxis=dict(\n",
    "        title=\"time\",\n",
    "        linecolor=\"#BCCCDC\",\n",
    "    ),\n",
    "    yaxis=dict(\n",
    "        title=\"price\",\n",
    "        linecolor=\"#BCCCDC\"\n",
    "    )\n",
    ")\n",
    "\n",
    "data = []\n",
    "for company in [\"A\", \"B\"]:\n",
    "    time = df.loc[df.company == company, \"time\"]\n",
    "    price = df.loc[df.company == company, \"price\"]\n",
    "    returns = df.loc[df.company == company, \"returns\"]\n",
    "    line_chart = go.Scatter(\n",
    "        x=time,\n",
    "        y=price,\n",
    "        name=company\n",
    "    )\n",
    "    data.append(line_chart)\n",
    "\n",
    "fig = go.Figure(data=data, layout=layout)\n",
    "fig.show(config={\"displayModeBar\": False, \"showTips\": False}) # Remove floating menu and unnecesary dialog box"
   ]
  }
 ],
 "metadata": {
  "kernelspec": {
   "display_name": "Python 3",
   "language": "python",
   "name": "python3"
  },
  "language_info": {
   "codemirror_mode": {
    "name": "ipython",
    "version": 3
   },
   "file_extension": ".py",
   "mimetype": "text/x-python",
   "name": "python",
   "nbconvert_exporter": "python",
   "pygments_lexer": "ipython3",
   "version": "3.7.6"
  }
 },
 "nbformat": 4,
 "nbformat_minor": 4
}
